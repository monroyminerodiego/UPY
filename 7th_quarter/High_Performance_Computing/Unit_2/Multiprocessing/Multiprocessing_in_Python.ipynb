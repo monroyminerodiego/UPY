{
  "cells": [
    {
      "cell_type": "markdown",
      "metadata": {
        "id": "rd6UsH7Tm8WZ"
      },
      "source": [
        "# Multiprocessing in Python\n",
        "\n",
        "## What is Parallel Programming?\n",
        "Parallel programming is a computing technique where multiple tasks or computations are executed simultaneously. This approach significantly improves performance by utilizing multiple processors or cores to perform computations faster than traditional sequential execution.\n",
        "To parallelize a program, the problem must be broken down into smaller subunits that can run independently (or almost independently) from each other. These subunits can then be assigned to different processors, allowing computations to be performed concurrently.\n",
        "\n",
        "## Shared Memory vs Distributed Memory\n",
        "\n",
        "There are two main models for handling data communication in parallel computing:\n",
        "### A. Shared Memory Model\n",
        "* All processes or threads share the same memory space.\n",
        "* No need for explicit communication between processes.\n",
        "* However, synchronization issues arise when multiple processes modify the same data simultaneously.\n",
        "\n",
        "## Distributed Memory Model\n",
        "* Each process has its own separate memory space.\n",
        "* Communication between processes must be explicitly managed (e.g., using message passing).\n",
        "* Data can be exchanged over a network, making it slower than shared memory.\n",
        "\n",
        "# Threads vs Processes\n",
        "\n",
        "A thread is a lightweight subtask within a process. Threads share memory, which simplifies communication.\n",
        "\n",
        "Problem: In Python, threads are limited by the Global Interpreter Lock (GIL).\n",
        "\n",
        "> Why Python Threads Are Limited? Python’s GIL (Global Interpreter Lock) allows only one thread to execute Python instructions at a time. This means:\n",
        "Even if a program spawns multiple threads, they execute one at a time.\n",
        "Threads do not achieve true parallelism in CPU-bound tasks.\n",
        "\n",
        "Unlike threads, each process runs independently with its own memory space.\n",
        "Processes bypass the GIL, enabling true parallel execution.\n",
        "Downsides: Processes consume more memory and inter-process communication is slower than thread communication."
      ]
    },
    {
      "cell_type": "code",
      "execution_count": 1,
      "metadata": {
        "id": "-N8kHyYen8Ad"
      },
      "outputs": [],
      "source": [
        "import time\n",
        "import random\n",
        "import numpy as np\n",
        "import matplotlib.pyplot as plt"
      ]
    },
    {
      "cell_type": "markdown",
      "metadata": {
        "id": "qbhZOZj-kOzk"
      },
      "source": [
        "## The Process and Pool Classes\n",
        "\n",
        "You can create a process that runs independently by subclassing\n",
        "multiprocessing.Process. You can extend the `__init__` method to initialize resources, and you can write the portion of the code that will be executed in a subprocess by implementing the `Process.run` method. In the following code, we define a Process class that will wait for one second and print its assigned id:"
      ]
    },
    {
      "cell_type": "code",
      "execution_count": 8,
      "metadata": {
        "id": "rxNxUaZHkNOt"
      },
      "outputs": [
        {
          "name": "stdout",
          "output_type": "stream",
          "text": [
            "Writing multiprocessing_test.py\n"
          ]
        }
      ],
      "source": [
        "%%writefile multiprocessing_test.py\n",
        "import multiprocessing\n",
        "import time\n",
        "\n",
        "class MyProcess(multiprocessing.Process):\n",
        "    def __init__(self, id):\n",
        "        super(MyProcess, self).__init__()\n",
        "        self.id = id\n",
        "\n",
        "    def run(self):\n",
        "        time.sleep(1)\n",
        "        print(f\"Process with ID {self.id} executed.\")\n",
        "\n",
        "if __name__ == '__main__':\n",
        "  p = MyProcess(0)\n",
        "  p.start()"
      ]
    },
    {
      "cell_type": "markdown",
      "metadata": {
        "id": "zqaxWJ33lEAp"
      },
      "source": [
        "To spawn the process, we have to instantiate the `Process` class and call the `Process.start` method."
      ]
    },
    {
      "cell_type": "code",
      "execution_count": 9,
      "metadata": {
        "id": "C5Lg73Opk6fu"
      },
      "outputs": [
        {
          "name": "stdout",
          "output_type": "stream",
          "text": [
            "Process with ID 0 executed.\n"
          ]
        }
      ],
      "source": [
        "!python3 multiprocessing_test.py\n"
      ]
    },
    {
      "cell_type": "markdown",
      "metadata": {
        "id": "dwWjReGklOLK"
      },
      "source": [
        "The instructions after `Process.start` will be executed immediately without waiting for the p process to finish. To wait for the task completion, you can use the `Process.join` method, as follows:"
      ]
    },
    {
      "cell_type": "code",
      "execution_count": 12,
      "metadata": {
        "colab": {
          "base_uri": "https://localhost:8080/"
        },
        "id": "GYL_2blalB4O",
        "outputId": "7a356524-66f0-4e45-fd5c-2a674f77879e"
      },
      "outputs": [
        {
          "name": "stdout",
          "output_type": "stream",
          "text": [
            "Overwriting multiprocessing_test.py\n"
          ]
        }
      ],
      "source": [
        "%%writefile multiprocessing_test.py\n",
        "import multiprocessing\n",
        "import time\n",
        "\n",
        "class MyProcess(multiprocessing.Process):\n",
        "    def __init__(self, id):\n",
        "        super(MyProcess, self).__init__()\n",
        "        self.id = id\n",
        "\n",
        "    def run(self):\n",
        "        time.sleep(1)\n",
        "        print(f\"Process with ID {self.id} executed.\")\n",
        "\n",
        "if __name__ == '__main__':\n",
        "  p = MyProcess(0)\n",
        "  p.start()\n",
        "  p.join()"
      ]
    },
    {
      "cell_type": "code",
      "execution_count": 13,
      "metadata": {},
      "outputs": [
        {
          "name": "stdout",
          "output_type": "stream",
          "text": [
            "Process with ID 0 executed.\n"
          ]
        }
      ],
      "source": [
        "!python3 multiprocessing_test.py\n"
      ]
    },
    {
      "cell_type": "markdown",
      "metadata": {
        "id": "a1vPtu3Qlrnr"
      },
      "source": [
        "We can launch four different processes that will run parallely in the same way. In a serial program, the total required time will be four seconds. Since the execution is concurrent, the resulting wallclock time will be of one second. In the following code, we create four processes that will execute concurrently:"
      ]
    },
    {
      "cell_type": "code",
      "execution_count": 14,
      "metadata": {
        "colab": {
          "base_uri": "https://localhost:8080/"
        },
        "id": "ilQ6QVd9lm_3",
        "outputId": "702038e5-6e50-4dab-90f3-c129d8164c87"
      },
      "outputs": [
        {
          "name": "stdout",
          "output_type": "stream",
          "text": [
            "Overwriting multiprocessing_test.py\n"
          ]
        }
      ],
      "source": [
        "%%writefile multiprocessing_test.py\n",
        "import multiprocessing\n",
        "import time\n",
        "\n",
        "class MyProcess(multiprocessing.Process):\n",
        "    def __init__(self, id):\n",
        "        super(MyProcess, self).__init__()\n",
        "        self.id = id\n",
        "\n",
        "    def run(self):\n",
        "        time.sleep(1)\n",
        "        print(f\"Process with ID {self.id} executed.\")\n",
        "        \n",
        "if __name__ == '__main__':\n",
        "    processes = [MyProcess(i) for i in range(4)]\n",
        "\n",
        "    for p in processes:\n",
        "        p.start()\n",
        "\n",
        "    for p in processes:\n",
        "        p.join()"
      ]
    },
    {
      "cell_type": "code",
      "execution_count": 16,
      "metadata": {},
      "outputs": [
        {
          "name": "stdout",
          "output_type": "stream",
          "text": [
            "Process with ID 0 executed.\n",
            "Process with ID 1 executed.\n",
            "Process with ID 2 executed.\n",
            "Process with ID 3 executed.\n"
          ]
        }
      ],
      "source": [
        "!python3 multiprocessing_test.py"
      ]
    },
    {
      "cell_type": "markdown",
      "metadata": {
        "id": "UyP9C__hl2Xl"
      },
      "source": [
        "Note that the order of the execution for parallel processes is unpredictable and ultimately depends on how the OS schedules their execution. You can verify this behavior by executing the program multiple times; the order will likely be different between runs.\n",
        "\n",
        "The `multiprocessing` module exposes a convenient interface that makes it easy to assign and distribute tasks to a set of processes that reside in the `multiprocessing.Pool` class.\n",
        "\n",
        "The `multiprocessing.Pool` class spawns a set of processes--called workers--and lets us submit tasks through the apply/apply_async and map/map_async methods.\n",
        "The `Pool.map `method applies a function to each element of a list and returns the list of results. Its usage is equivalent to the built-in (serial) map.\n",
        "\n",
        "To use a parallel map, you should first initialize a m`ultiprocessing.Pool `object. It takes the number of workers as its first argument; if not provided, that number will be equal to the number of cores in the system. You can initialize a `multiprocessing.Pool` object in the following way:"
      ]
    },
    {
      "cell_type": "code",
      "execution_count": 17,
      "metadata": {
        "colab": {
          "base_uri": "https://localhost:8080/"
        },
        "id": "f-eTozFol0ir",
        "outputId": "31057f67-c37c-4798-ca30-d08cd32d939b"
      },
      "outputs": [
        {
          "name": "stdout",
          "output_type": "stream",
          "text": [
            "Writing multiprocessing_pool.py\n"
          ]
        }
      ],
      "source": [
        "%%writefile multiprocessing_pool.py\n",
        "import multiprocessing\n",
        "\n",
        "def square(n):\n",
        "    return n * n\n",
        "\n",
        "if __name__ == '__main__':\n",
        "    with multiprocessing.Pool(processes=4) as pool:\n",
        "        numbers = [1, 2, 3, 4, 5]\n",
        "        results = pool.map(square, numbers)\n",
        "\n",
        "    print(\"Results:\", results)\n"
      ]
    },
    {
      "cell_type": "code",
      "execution_count": 18,
      "metadata": {},
      "outputs": [
        {
          "name": "stdout",
          "output_type": "stream",
          "text": [
            "Results: [1, 4, 9, 16, 25]\n"
          ]
        }
      ],
      "source": [
        "!python3 multiprocessing_pool.py\n"
      ]
    },
    {
      "cell_type": "markdown",
      "metadata": {
        "id": "gx7OQ7wTmgaf"
      },
      "source": [
        "The `Pool.map_async` function is just like Pool.map but returns an `AsyncResul`t object instead of the actual result. When we call `Pool.map`, the execution of the main program is stopped until all the workers are finished processing the result. With `map_async`, the AsyncResult object is returned immediately without blocking the main program and the calculations are done in the background. We can then retrieve the result using the `AsyncResult.ge`t method at any time, as shown in the following lines:"
      ]
    },
    {
      "cell_type": "code",
      "execution_count": 19,
      "metadata": {
        "colab": {
          "base_uri": "https://localhost:8080/"
        },
        "id": "e3roewX0muO9",
        "outputId": "502628bb-a568-4282-d9ab-1cab05095b8f"
      },
      "outputs": [
        {
          "name": "stdout",
          "output_type": "stream",
          "text": [
            "Writing multiprocessing_apply_async.py\n"
          ]
        }
      ],
      "source": [
        "%%writefile multiprocessing_apply_async.py\n",
        "import multiprocessing\n",
        "\n",
        "def cube(n):\n",
        "    return n ** 3\n",
        "\n",
        "if __name__ == '__main__':\n",
        "    with multiprocessing.Pool(processes=4) as pool:\n",
        "        results = [pool.apply_async(cube, args=(i,)) for i in range(5)]\n",
        "        results = [r.get() for r in results]\n",
        "\n",
        "    print(\"Results:\", results)\n"
      ]
    },
    {
      "cell_type": "code",
      "execution_count": 20,
      "metadata": {},
      "outputs": [
        {
          "name": "stdout",
          "output_type": "stream",
          "text": [
            "Results: [0, 1, 8, 27, 64]\n"
          ]
        }
      ],
      "source": [
        "!python3 multiprocessing_apply_async.py\n"
      ]
    },
    {
      "cell_type": "markdown",
      "metadata": {
        "id": "sJW2BgYNqE0q"
      },
      "source": [
        "# 1.1 Estimation of Pi"
      ]
    },
    {
      "cell_type": "code",
      "execution_count": null,
      "metadata": {
        "id": "9e_OvqieqKsc"
      },
      "outputs": [],
      "source": [
        "N_T = 1000\n",
        "\n",
        "x = np.random.uniform(0,1,N_T)\n",
        "y = np.random.uniform(0,1,N_T)\n",
        "\n",
        "N_in = np.sum(x**2 + y**2 <= 1)\n",
        "\n",
        "pi_estimate = 4*(N_in / N_T)"
      ]
    },
    {
      "cell_type": "code",
      "execution_count": null,
      "metadata": {
        "colab": {
          "base_uri": "https://localhost:8080/",
          "height": 471
        },
        "id": "BethQQB7qe0Q",
        "outputId": "67835f28-de70-42fd-8210-122e9a900249"
      },
      "outputs": [
        {
          "data": {
            "image/png": "[encoded data removed]",
            "text/plain": [
              "<Figure size 500x500 with 1 Axes>"
            ]
          },
          "metadata": {},
          "output_type": "display_data"
        }
      ],
      "source": [
        "inside_circle = x**2 + y**2 <= 1\n",
        "fig, ax = plt.subplots(figsize=(5,5))\n",
        "ax.plot(x[inside_circle],y[inside_circle],'o', color = 'green', label = 'inside circle')\n",
        "ax.plot(x[~inside_circle],y[~inside_circle],'o', color = 'blue', label = 'outside circle')\n",
        "circle = plt.Circle((0,0),1, color = 'black', fill = False, linewidth = 2)\n",
        "ax.add_artist(circle)\n",
        "ax.set_xlim(0,1)\n",
        "ax.set_ylim(0,1)\n",
        "ax.legend(loc = 'upper right')\n",
        "plt.show()"
      ]
    },
    {
      "cell_type": "code",
      "execution_count": 11,
      "metadata": {
        "id": "WQ13IhIeuESJ"
      },
      "outputs": [],
      "source": [
        "def estimate_pi_numpy(N_T):\n",
        "\n",
        "  x = np.random.uniform(0,1,N_T)\n",
        "  y = np.random.uniform(0,1,N_T)\n",
        "\n",
        "  N_in = np.sum(x**2 + y**2 <= 1)\n",
        "\n",
        "  return 4*(N_in / N_T)\n",
        "\n",
        "def estimate_py(N_T):\n",
        "  N_in = 0\n",
        "  for _ in range(N_T):\n",
        "    x, y = random.uniform(0,1), random.uniform(0,1)\n",
        "    if x**2 + y**2 <= 1:\n",
        "      N_in += 1\n",
        "\n",
        "  return 4*(N_in / N_T)"
      ]
    },
    {
      "cell_type": "code",
      "execution_count": null,
      "metadata": {
        "id": "n5zZamuQvEvJ"
      },
      "outputs": [],
      "source": [
        "problem_sizes = [10**i for i in range(1,8)]\n",
        "num_trials = 5\n",
        "times_numpy = []\n",
        "times_py = []\n",
        "\n",
        "for N_T in problem_sizes:\n",
        "  times_numpy_trial = []\n",
        "  for _ in range(num_trials):\n",
        "    start_time = time.time()\n",
        "    estimate_pi_numpy(N_T)\n",
        "    end_time = time.time()\n",
        "    times_numpy_trial.append(end_time - start_time)\n",
        "  times_numpy.append(np.mean(times_numpy_trial))\n",
        "\n",
        "  times_py_trial = []\n",
        "  for _ in range(num_trials):\n",
        "    start_time = time.time()\n",
        "    estimate_py(N_T)\n",
        "    end_time = time.time()\n",
        "    times_py_trial.append(end_time - start_time)\n",
        "  times_py.append(np.mean(times_py_trial))"
      ]
    },
    {
      "cell_type": "code",
      "execution_count": null,
      "metadata": {
        "colab": {
          "base_uri": "https://localhost:8080/",
          "height": 569
        },
        "id": "QpxG-_w6v1gc",
        "outputId": "c36e9431-4504-4f86-dbe1-76ed93f436e5"
      },
      "outputs": [
        {
          "data": {
            "image/png": "[encoded data removed]",
            "text/plain": [
              "<Figure size 800x600 with 1 Axes>"
            ]
          },
          "metadata": {},
          "output_type": "display_data"
        }
      ],
      "source": [
        "plt.figure(figsize = (8,6))\n",
        "plt.plot(problem_sizes, times_numpy, marker = 'o', linestyle = '-', label = 'numpy')\n",
        "plt.plot(problem_sizes, times_py, marker = 'o', linestyle = '-',label = 'python')\n",
        "plt.xscale('log')\n",
        "plt.yscale('log')\n",
        "plt.title(\"Execution Time vs Problem Size\")\n",
        "plt.legend()\n",
        "plt.show()"
      ]
    },
    {
      "cell_type": "markdown",
      "metadata": {
        "id": "DXoE1ENxyIE-"
      },
      "source": [
        "1.2 Introduction to Multiprocessing\n",
        "\n",
        "* pi_serial(samples=1_000_000): This function estimates Pi using the Monte Carlo method in a sequential manner. It generates random points in a 2D space, checks whether each point falls inside the unit circle, and computes the ratio of points inside the circle to the total points. This approach is simple and effective for small sample sizes but becomes slow as the number of samples increases.\n",
        "* pi_apply_async(samples=1_000_000): This function estimates Pi using multiprocessing, where each hit-miss check is computed independently by a separate worker process using apply_async(). It distributes one sample per worker, collects the results, and computes Pi in the same way as the sequential version. However, this method introduces significant communication overhead, making it inefficient for large-scale computations.\n",
        "* pi_apply_async_chunked(samples=1_000_000, n_tasks=10): This function improves performance by dividing the total samples into chunks, with each worker processing multiple samples instead of a single one. It reduces the communication overhead by increasing the computation per worker, leading to better utilization of multiprocessing capabilities. This approach is more efficient and scalable, making it suitable for large-scale simulations."
      ]
    },
    {
      "cell_type": "code",
      "execution_count": 21,
      "metadata": {
        "colab": {
          "base_uri": "https://localhost:8080/"
        },
        "id": "dF-B3XMUoA8I",
        "outputId": "8daba55f-93fe-45be-a3c1-d0d5ffe65b3c"
      },
      "outputs": [
        {
          "name": "stdout",
          "output_type": "stream",
          "text": [
            "Writing pi.py\n"
          ]
        }
      ],
      "source": [
        "%%writefile pi.py\n",
        "import random\n",
        "import multiprocessing\n",
        "\n",
        "# Serial version\n",
        "def pi_serial(samples=1_000_000):\n",
        "    hits = 0\n",
        "    for _ in range(samples):\n",
        "        x, y = random.uniform(-1.0, 1.0), random.uniform(-1.0, 1.0)\n",
        "        if x**2 + y**2 <= 1:\n",
        "            hits += 1\n",
        "    return 4.0 * hits / samples\n",
        "\n",
        "# Parallel version (apply_async)\n",
        "def sample():\n",
        "    x, y = random.uniform(-1.0, 1.0), random.uniform(-1.0, 1.0)\n",
        "    return 1 if x**2 + y**2 <= 1 else 0\n",
        "\n",
        "def pi_apply_async(samples=1_000_000):\n",
        "    with multiprocessing.Pool() as pool:\n",
        "        results_async = [pool.apply_async(sample) for _ in range(samples)]\n",
        "        hits = sum(r.get() for r in results_async)\n",
        "    return 4.0 * hits / samples\n",
        "\n",
        "# Optimized parallel version (apply_async with chunking)\n",
        "def sample_multiple(samples_partial):\n",
        "    return sum(sample() for _ in range(samples_partial))\n",
        "\n",
        "def pi_apply_async_chunked(samples=1_000_000, n_tasks=10):\n",
        "    chunk_size = samples // n_tasks\n",
        "    with multiprocessing.Pool() as pool:\n",
        "        results_async = [pool.apply_async(sample_multiple, args=(chunk_size,)) for _ in range(n_tasks)]\n",
        "        hits = sum(r.get() for r in results_async)\n",
        "    return 4.0 * hits / samples\n",
        "\n",
        "if __name__ == \"__main__\":\n",
        "    samples = 10_000_000\n",
        "    print(\"Pi (Serial):\", pi_serial(samples))\n",
        "    print(\"Pi (apply_async):\", pi_apply_async(samples))\n",
        "    print(\"Pi (apply_async_chunked):\", pi_apply_async_chunked(samples))\n"
      ]
    },
    {
      "cell_type": "markdown",
      "metadata": {},
      "source": [
        "Do not forget:\n",
        "* User CPU Time. This is the total amount of CPU time spent executing user-level code (i.e., the Python script itself). It does not include system calls like file I/O or process scheduling.\n",
        "* System CPU Time. This is the time spent by the operating system executing kernel-level operations on behalf of the program. These operations include process scheduling, memory management, and I/O handling.\n",
        "* CPU Utilization Percentage. This indicates the percentage of CPU capacity used during the program’s execution.\n",
        "* Elapsed \"Wall Clock\" Time. This is the actual real-world time taken from start to finish."
      ]
    },
    {
      "cell_type": "code",
      "execution_count": 24,
      "metadata": {
        "colab": {
          "base_uri": "https://localhost:8080/"
        },
        "id": "wSqslPkzoAuj",
        "outputId": "60999654-9cd9-4a11-dd23-34748500aa69"
      },
      "outputs": [
        {
          "name": "stdout",
          "output_type": "stream",
          "text": [
            "Pi (Serial): 3.143872\n",
            "python3 -c \"import pi; print('Pi (Serial):', pi.pi_serial(1_000_000))\"  0.28s user 0.01s system 92% cpu 0.312 total\n"
          ]
        }
      ],
      "source": [
        "!time python3 -c \"import pi; print('Pi (Serial):', pi.pi_serial(1_000_000))\"\n"
      ]
    },
    {
      "cell_type": "code",
      "execution_count": 27,
      "metadata": {
        "colab": {
          "base_uri": "https://localhost:8080/"
        },
        "id": "efOKIpBzoAlY",
        "outputId": "04537f2d-7294-495c-b6ad-3427b7426cda"
      },
      "outputs": [
        {
          "name": "stdout",
          "output_type": "stream",
          "text": [
            "Pi (apply_async): 3.142872\n",
            "python3 -c   34.06s user 23.00s system 216% cpu 26.388 total\n"
          ]
        }
      ],
      "source": [
        "!time python3 -c \"import pi; print('Pi (apply_async):', pi.pi_apply_async(1_000_000))\""
      ]
    },
    {
      "cell_type": "code",
      "execution_count": 25,
      "metadata": {
        "colab": {
          "base_uri": "https://localhost:8080/"
        },
        "id": "PIAd46f_wRdH",
        "outputId": "4cd3e0ad-7e8f-4044-b960-0d8f6a962ea5"
      },
      "outputs": [
        {
          "name": "stdout",
          "output_type": "stream",
          "text": [
            "Pi (apply_async_chunked): 3.139704\n",
            "python3 -c   0.58s user 0.11s system 477% cpu 0.144 total\n"
          ]
        }
      ],
      "source": [
        "!time python3 -c \"import pi; print('Pi (apply_async_chunked):', pi.pi_apply_async_chunked(1_000_000))\""
      ]
    },
    {
      "cell_type": "markdown",
      "metadata": {
        "id": "_kWBULPrrrPr"
      },
      "source": [
        "# Synchronization and Locks in Multiprocessing"
      ]
    },
    {
      "cell_type": "markdown",
      "metadata": {
        "id": "oZfF_eajrvlP"
      },
      "source": [
        "When using multiprocessing, each process has its own independent memory. However, Python allows defining shared variables using multiprocessing.Value, enabling multiple processes to access and modify the same variable. This shared access introduces the risk of race conditions, where multiple processes read and write to the same variable simultaneously, leading to incorrect results.\n",
        "\n",
        "To prevent race conditions, synchronization mechanisms like multiprocessing.Lock are used. A lock ensures that only one process can modify a shared resource at a time. This is crucial when multiple processes update a shared variable, such as a counter, to ensure correctness. Using locks should be minimized to avoid unnecessary performance bottlenecks.\n",
        "\n",
        "The following example demonstrates a race condition when multiple processes increment a shared counter without synchronization."
      ]
    },
    {
      "cell_type": "code",
      "execution_count": 29,
      "metadata": {
        "colab": {
          "base_uri": "https://localhost:8080/"
        },
        "id": "brBpGnC_rtvK",
        "outputId": "54331086-cf8a-42e9-ba51-f203d3e4c611"
      },
      "outputs": [
        {
          "name": "stdout",
          "output_type": "stream",
          "text": [
            "Overwriting multiprocessing_race_condition.py\n"
          ]
        }
      ],
      "source": [
        "%%writefile multiprocessing_race_condition.py\n",
        "import multiprocessing\n",
        "\n",
        "class CounterProcess(multiprocessing.Process):\n",
        "    def __init__(self, counter):\n",
        "        super().__init__()\n",
        "        self.counter = counter\n",
        "\n",
        "    def run(self):\n",
        "        for _ in range(1000):\n",
        "            self.counter.value += 1  # No lock, leading to race condition\n",
        "\n",
        "def main():\n",
        "    counter = multiprocessing.Value('i', 0)  # Shared integer variable\n",
        "    processes = [CounterProcess(counter) for _ in range(4)]\n",
        "\n",
        "    for p in processes:\n",
        "        p.start()\n",
        "    for p in processes:\n",
        "        p.join()\n",
        "\n",
        "    print(\"Final Counter Value (Expected: 4000):\", counter.value)\n",
        "\n",
        "if __name__ == \"__main__\":\n",
        "    main()\n"
      ]
    },
    {
      "cell_type": "code",
      "execution_count": 30,
      "metadata": {},
      "outputs": [
        {
          "name": "stdout",
          "output_type": "stream",
          "text": [
            "Final Counter Value (Expected: 4000): 1200\n"
          ]
        }
      ],
      "source": [
        "!python3 multiprocessing_race_condition.py"
      ]
    },
    {
      "cell_type": "markdown",
      "metadata": {
        "id": "aAQAjmN7r8hf"
      },
      "source": [
        "To fix the issue, we use a lock to ensure that only one process updates the counter at a time."
      ]
    },
    {
      "cell_type": "code",
      "execution_count": 31,
      "metadata": {
        "colab": {
          "base_uri": "https://localhost:8080/"
        },
        "id": "lIeH0azFrzkY",
        "outputId": "8965fc95-5d5d-4601-980a-72e41a4797ef"
      },
      "outputs": [
        {
          "name": "stdout",
          "output_type": "stream",
          "text": [
            "Writing multiprocessing_lock.py\n"
          ]
        }
      ],
      "source": [
        "%%writefile multiprocessing_lock.py\n",
        "import multiprocessing\n",
        "\n",
        "class SafeCounterProcess(multiprocessing.Process):\n",
        "    def __init__(self, counter, lock):\n",
        "        super().__init__()\n",
        "        self.counter = counter\n",
        "        self.lock = lock\n",
        "\n",
        "    def run(self):\n",
        "        for _ in range(1000):\n",
        "            with self.lock:  # Lock ensures exclusive access\n",
        "                self.counter.value += 1\n",
        "\n",
        "def main():\n",
        "    counter = multiprocessing.Value('i', 0)  # Shared integer variable\n",
        "    lock = multiprocessing.Lock()  # Lock to prevent race conditions\n",
        "    processes = [SafeCounterProcess(counter, lock) for _ in range(4)]\n",
        "\n",
        "    for p in processes:\n",
        "        p.start()\n",
        "    for p in processes:\n",
        "        p.join()\n",
        "\n",
        "    print(\"Final Counter Value (Expected: 4000):\", counter.value)\n",
        "\n",
        "if __name__ == \"__main__\":\n",
        "    main()\n"
      ]
    },
    {
      "cell_type": "code",
      "execution_count": 32,
      "metadata": {},
      "outputs": [
        {
          "name": "stdout",
          "output_type": "stream",
          "text": [
            "Final Counter Value (Expected: 4000): 4000\n"
          ]
        }
      ],
      "source": [
        "!python3 multiprocessing_lock.py\n"
      ]
    },
    {
      "cell_type": "code",
      "execution_count": null,
      "metadata": {},
      "outputs": [],
      "source": []
    }
  ],
  "metadata": {
    "colab": {
      "provenance": []
    },
    "kernelspec": {
      "display_name": "ocr_webapp",
      "language": "python",
      "name": "python3"
    },
    "language_info": {
      "codemirror_mode": {
        "name": "ipython",
        "version": 3
      },
      "file_extension": ".py",
      "mimetype": "text/x-python",
      "name": "python",
      "nbconvert_exporter": "python",
      "pygments_lexer": "ipython3",
      "version": "3.9.18"
    }
  },
  "nbformat": 4,
  "nbformat_minor": 0
}
