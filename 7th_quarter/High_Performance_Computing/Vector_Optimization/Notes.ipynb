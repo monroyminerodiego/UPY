{
 "cells": [
  {
   "cell_type": "markdown",
   "metadata": {},
   "source": [
    "## Problema de la gota"
   ]
  },
  {
   "cell_type": "code",
   "execution_count": 1,
   "metadata": {},
   "outputs": [],
   "source": [
    "import matplotlib.pyplot as plt\n",
    "import os\n",
    "from PIL import Image"
   ]
  },
  {
   "cell_type": "markdown",
   "metadata": {},
   "source": [
    "## 1-D Diffusion Model"
   ]
  },
  {
   "cell_type": "code",
   "execution_count": 2,
   "metadata": {},
   "outputs": [],
   "source": [
    "# ====== Parameter definition\n",
    "xmax = 500\n",
    "dx = 1\n",
    "grid_shape = xmax // dx\n",
    "\n",
    "u = [0.0] * grid_shape\n",
    "D = 1\n",
    "tmax = 10_000\n",
    "dt = 0.1"
   ]
  },
  {
   "cell_type": "code",
   "execution_count": 3,
   "metadata": {},
   "outputs": [],
   "source": [
    "# ===== Set Initial Conditions\n",
    "for i in range(grid_shape):\n",
    "    if i >= 200 and i <= 300:\n",
    "        u[i] = 1.0"
   ]
  },
  {
   "cell_type": "code",
   "execution_count": 4,
   "metadata": {},
   "outputs": [],
   "source": [
    "def plot_u(u, time):\n",
    "    plt.plot(u)\n",
    "    plt.xlabel(\"Position\")\n",
    "    plt.ylabel(f\"t = {time}\")\n",
    "    plt.ylim(0,1.2)\n",
    "    plt.savefig(f'Imagenes/1D/imagen_{str(time).replace('.','_').replace(',','_')}.png')\n",
    "    plt.close()"
   ]
  },
  {
   "cell_type": "code",
   "execution_count": 5,
   "metadata": {},
   "outputs": [],
   "source": [
    "# for i in range(int(tmax // dt)):\n",
    "#     unew = [0.0] * grid_shape\n",
    "\n",
    "#     # Visualization of Diffusion\n",
    "#     if i % (int(tmax // dt) // 5) == 0:\n",
    "#         print(f\"Time: {i * dt}\")\n",
    "#         plot_u(u, i * dt)\n",
    "\n",
    "#     for i in  range(grid_shape):\n",
    "#         unew[i] = u[i] + D * ((u[(i+1)%grid_shape] + u[(i-1)%grid_shape] - 2 * u[i]) / (dx ** 2)) * dt\n",
    "\n",
    "#     u = unew\n",
    "\n",
    "# print(f\"Time {tmax}\")\n",
    "# plot_u(u,tmax)"
   ]
  },
  {
   "cell_type": "code",
   "execution_count": 6,
   "metadata": {},
   "outputs": [
    {
     "name": "stdout",
     "output_type": "stream",
     "text": [
      "GIF guardado\n"
     ]
    }
   ],
   "source": [
    "# ===== Creacion de GIF\n",
    "def crear_gif(imagenes_path:str,output_name:str):\n",
    "    imagenes = os.listdir(imagenes_path)\n",
    "    frames = [Image.open(os.path.join(imagenes_path,imagen)) for imagen in imagenes]\n",
    "    frames[0].save(\n",
    "        output_name,\n",
    "        save_all=True,\n",
    "        append_images=frames[1:],\n",
    "        duration=500,  # Duración de cada frame en milisegundos\n",
    "        loop=0  # 0 significa que el GIF se repetirá infinitamente\n",
    "    )\n",
    "    print(\"GIF guardado\")\n",
    "\n",
    "crear_gif('./Imagenes/1D/','./Imagenes/GIF/1D.gif')"
   ]
  },
  {
   "cell_type": "markdown",
   "metadata": {},
   "source": [
    "## 2-D Diffusion Model"
   ]
  },
  {
   "cell_type": "code",
   "execution_count": 7,
   "metadata": {},
   "outputs": [],
   "source": [
    "# ===== Parameter definition\n",
    "grid_shape = (600,600)"
   ]
  },
  {
   "cell_type": "code",
   "execution_count": 8,
   "metadata": {},
   "outputs": [
    {
     "ename": "NameError",
     "evalue": "name 'profile' is not defined",
     "output_type": "error",
     "traceback": [
      "\u001b[0;31m---------------------------------------------------------------------------\u001b[0m",
      "\u001b[0;31mNameError\u001b[0m                                 Traceback (most recent call last)",
      "Cell \u001b[0;32mIn[8], line 1\u001b[0m\n\u001b[0;32m----> 1\u001b[0m \u001b[38;5;129m@profile\u001b[39m\n\u001b[1;32m      2\u001b[0m \u001b[38;5;28;01mdef\u001b[39;00m\u001b[38;5;250m \u001b[39m\u001b[38;5;21mevolve\u001b[39m(grid, dt \u001b[38;5;241m=\u001b[39m \u001b[38;5;241m0.1\u001b[39m, D \u001b[38;5;241m=\u001b[39m \u001b[38;5;241m1.0\u001b[39m):\n\u001b[1;32m      3\u001b[0m     xmax, ymax \u001b[38;5;241m=\u001b[39m grid_shape \u001b[38;5;66;03m# Particular situation considering dx = 1 and dy = 1\u001b[39;00m\n\u001b[1;32m      4\u001b[0m     new_grid \u001b[38;5;241m=\u001b[39m [[\u001b[38;5;241m0.0\u001b[39m]\u001b[38;5;241m*\u001b[39mymax \u001b[38;5;28;01mfor\u001b[39;00m x \u001b[38;5;129;01min\u001b[39;00m \u001b[38;5;28mrange\u001b[39m(xmax)]\n",
      "\u001b[0;31mNameError\u001b[0m: name 'profile' is not defined"
     ]
    }
   ],
   "source": [
    "@profile\n",
    "def evolve(grid, dt = 0.1, D = 1.0):\n",
    "    xmax, ymax = grid_shape # Particular situation considering dx = 1 and dy = 1\n",
    "    new_grid = [[0.0]*ymax for x in range(xmax)]\n",
    "    \n",
    "    for i in range(xmax):\n",
    "        for j in range(ymax):\n",
    "            dxx = grid[(i+1)%xmax][j] + grid[(i-1)%xmax][j] - 2 * grid[i][j] # / (dx)**2\n",
    "            dyy = grid[i][(j+1)%ymax] + grid[i][(j-1)%ymax] - 2 * grid[i][j] # / (dy)**2\n",
    "            new_grid[i][j] = grid[i][j]+D * (dxx + dyy) * dt\n",
    "    return new_grid"
   ]
  },
  {
   "cell_type": "code",
   "execution_count": null,
   "metadata": {},
   "outputs": [],
   "source": [
    "def plot_grid(grid,save:bool = False,consecutive:int = 0):\n",
    "    plt.imshow(grid, cmap='viridis', interpolation='nearest')\n",
    "    plt.xlabel('x')\n",
    "    plt.ylabel('y')\n",
    "    plt.grid(True)\n",
    "    \n",
    "    if not(save): plt.show()\n",
    "    else:\n",
    "        plt.savefig(f'Imagenes/2D/imagen_{consecutive}.png')\n",
    "        plt.close()\n",
    "    "
   ]
  },
  {
   "cell_type": "code",
   "execution_count": null,
   "metadata": {},
   "outputs": [
    {
     "name": "stdout",
     "output_type": "stream",
     "text": [
      "GIF guardado\n"
     ]
    }
   ],
   "source": [
    "def run_experiment(num_iterations):\n",
    "    xmax, ymax = grid_shape\n",
    "    new_grid = [[0.0]*ymax for x in range(xmax)]\n",
    "    \n",
    "    for i in range(grid_shape[0]):\n",
    "        for j in range(grid_shape[1]):\n",
    "            if (i >= 250) and (i <= 350) and (j >= 250) and (j<=350):\n",
    "                new_grid[i][j] = 1.0\n",
    "\n",
    "    for i in range(num_iterations):\n",
    "        if i%(num_iterations//4) == 0:\n",
    "            plot_grid(new_grid,True,i)\n",
    "        new_grid = evolve(new_grid)\n",
    "\n",
    "run_experiment(600)\n",
    "crear_gif('./Imagenes/2D/','./Imagenes/GIF/2D.gif')"
   ]
  }
 ],
 "metadata": {
  "kernelspec": {
   "display_name": "Python 3",
   "language": "python",
   "name": "python3"
  },
  "language_info": {
   "codemirror_mode": {
    "name": "ipython",
    "version": 3
   },
   "file_extension": ".py",
   "mimetype": "text/x-python",
   "name": "python",
   "nbconvert_exporter": "python",
   "pygments_lexer": "ipython3",
   "version": "3.12.8"
  }
 },
 "nbformat": 4,
 "nbformat_minor": 2
}
