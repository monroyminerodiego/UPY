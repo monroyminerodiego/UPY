{
 "cells": [
  {
   "cell_type": "markdown",
   "metadata": {},
   "source": [
    "## List and Tuples"
   ]
  },
  {
   "cell_type": "code",
   "execution_count": 32,
   "metadata": {},
   "outputs": [],
   "source": [
    "import timeit, memory_profiler, random, time\n",
    "from matplotlib import pyplot as plt\n",
    "from collections import Counter\n",
    "%reload_ext memory_profiler"
   ]
  },
  {
   "cell_type": "code",
   "execution_count": 33,
   "metadata": {},
   "outputs": [
    {
     "name": "stdout",
     "output_type": "stream",
     "text": [
      "25.8 ns ± 0.577 ns per loop (mean ± std. dev. of 7 runs, 10,000,000 loops each)\n",
      "31.3 ns ± 0.144 ns per loop (mean ± std. dev. of 7 runs, 10,000,000 loops each)\n"
     ]
    }
   ],
   "source": [
    "# Comparing Lookups on diferent sizes\n",
    "n_list = [element for element in range(10)]\n",
    "%timeit n_list[5]\n",
    "\n",
    "n_list = [element for element in range(10000)]\n",
    "%timeit n_list[9678]"
   ]
  },
  {
   "cell_type": "code",
   "execution_count": 34,
   "metadata": {},
   "outputs": [],
   "source": [
    "# Linear Search\n",
    "def linear_search(arr,target):\n",
    "    for i in range(len(arr)):\n",
    "        if arr[i] == target: return i\n",
    "    return -1"
   ]
  },
  {
   "cell_type": "code",
   "execution_count": 35,
   "metadata": {},
   "outputs": [
    {
     "data": {
      "text/plain": [
       "4"
      ]
     },
     "execution_count": 35,
     "metadata": {},
     "output_type": "execute_result"
    }
   ],
   "source": [
    "# Binary Search\n",
    "def binary_search(arr,target):\n",
    "    imin, imax = 0, len(arr)\n",
    "    while True: \n",
    "        if imin > imax: return -1\n",
    "        midpoint = (imin + imax) // 2\n",
    "        if arr[midpoint] > target:\n",
    "            imax = midpoint\n",
    "        elif arr[midpoint] < target:\n",
    "            imin = midpoint + 1\n",
    "        else:\n",
    "            return midpoint\n",
    "\n",
    "binary_search([1,2,3,4,5,6,7,8,9],5)"
   ]
  },
  {
   "cell_type": "markdown",
   "metadata": {},
   "source": [
    "### List Vs. Tuples memory"
   ]
  },
  {
   "cell_type": "code",
   "execution_count": 36,
   "metadata": {},
   "outputs": [
    {
     "name": "stdout",
     "output_type": "stream",
     "text": [
      "peak memory: 83.97 MiB, increment: 1.25 MiB\n",
      "peak memory: 83.97 MiB, increment: 0.00 MiB\n"
     ]
    }
   ],
   "source": [
    "# Compenhension List\n",
    "%memit comp_list = [el for el in range(100_000)]\n",
    "%memit comp_list = (el for el in range(100_000))"
   ]
  },
  {
   "cell_type": "markdown",
   "metadata": {},
   "source": [
    "### List Vs. Tuples times"
   ]
  },
  {
   "cell_type": "code",
   "execution_count": 37,
   "metadata": {},
   "outputs": [
    {
     "name": "stdout",
     "output_type": "stream",
     "text": [
      "435 ns ± 11.6 ns per loop (mean ± std. dev. of 7 runs, 1,000,000 loops each)\n",
      "232 ns ± 55.3 ns per loop (mean ± std. dev. of 7 runs, 1,000,000 loops each)\n"
     ]
    }
   ],
   "source": [
    "%timeit elements_list = [el for el in range(10)]\n",
    "%timeit elements_list = (el for el in range(10))"
   ]
  },
  {
   "cell_type": "markdown",
   "metadata": {},
   "source": [
    "## Execution Times Per Method"
   ]
  },
  {
   "cell_type": "code",
   "execution_count": 38,
   "metadata": {},
   "outputs": [],
   "source": [
    "def tradicional_metod(values:list):\n",
    "    ex_tiempo = time.time()\n",
    "    dictionary = {}\n",
    "    for key in values:\n",
    "        if key in dictionary.keys():\n",
    "            dictionary[key] += 1\n",
    "        else:\n",
    "            dictionary[key] = 1\n",
    "    ex_tiempo -= time.time()\n",
    "    return ex_tiempo\n",
    "\n",
    "def counter_method(values:list):\n",
    "    ex_tiempo = time.time()\n",
    "    dictionary = Counter(values)\n",
    "    ex_tiempo -= time.time()\n",
    "    return ex_tiempo\n",
    "\n",
    "def comprenhension_set_list(values):\n",
    "    ex_tiempo = time.time()\n",
    "    keys = set(values)\n",
    "    dictionary = {key:values.count(key) for key in keys}\n",
    "    ex_tiempo -= time.time()\n",
    "    return ex_tiempo\n",
    "\n",
    "def comprenhension_list(values):\n",
    "    ex_tiempo = time.time()\n",
    "    dictionary = {key:values.count(key) for key in values}\n",
    "    ex_tiempo -= time.time()\n",
    "    return ex_tiempo\n"
   ]
  },
  {
   "cell_type": "code",
   "execution_count": 42,
   "metadata": {},
   "outputs": [
    {
     "data": {
      "text/plain": [
       "{'trad': [-2.0265579223632812e-05,\n",
       "  -0.00016069412231445312,\n",
       "  -0.0017278194427490234],\n",
       " 'counter': [-2.002716064453125e-05,\n",
       "  -6.604194641113281e-05,\n",
       "  -0.0006422996520996094],\n",
       " 'com-set': [-3.337860107421875e-05,\n",
       "  -0.00014781951904296875,\n",
       "  -0.0016148090362548828],\n",
       " 'com-lst': [-0.0001690387725830078,\n",
       "  -0.01804494857788086,\n",
       "  -1.6638896465301514]}"
      ]
     },
     "execution_count": 42,
     "metadata": {},
     "output_type": "execute_result"
    }
   ],
   "source": [
    "rangs = [1_00,10_00,10_000]\n",
    "times = {\n",
    "    \"trad\"    : [],\n",
    "    \"counter\" : [],\n",
    "    \"com-set\" : [],\n",
    "    \"com-lst\" : []\n",
    "}\n",
    "for ran in rangs:\n",
    "    values = [random.choice(['a','b','c','d','e','f','h','i']) for _ in range(ran)]\n",
    "    times['trad'].append(tradicional_metod(values))\n",
    "    times['counter'].append(counter_method(values))\n",
    "    times['com-set'].append(comprenhension_set_list(values))\n",
    "    times['com-lst'].append(comprenhension_list(values))\n",
    "\n",
    "times\n"
   ]
  },
  {
   "cell_type": "markdown",
   "metadata": {},
   "source": [
    "## Iterators and Generators"
   ]
  },
  {
   "cell_type": "code",
   "execution_count": 44,
   "metadata": {},
   "outputs": [],
   "source": [
    "\n",
    "def fibonacci_gen(num):\n",
    "    a,b = 0,1\n",
    "    while num:\n",
    "        yield a\n",
    "        a,b = b, a+b\n",
    "        num -= 1\n",
    "\n"
   ]
  },
  {
   "cell_type": "code",
   "execution_count": 50,
   "metadata": {},
   "outputs": [
    {
     "name": "stdout",
     "output_type": "stream",
     "text": [
      "976 ms ± 160 ms per loop (mean ± std. dev. of 7 runs, 1 loop each)\n"
     ]
    }
   ],
   "source": [
    "%%timeit\n",
    "div_by_three = len([n for n in fibonacci_gen(100_000) if n%3 == 0])"
   ]
  },
  {
   "cell_type": "code",
   "execution_count": 51,
   "metadata": {},
   "outputs": [
    {
     "name": "stdout",
     "output_type": "stream",
     "text": [
      "455 ms ± 1.25 ms per loop (mean ± std. dev. of 7 runs, 1 loop each)\n"
     ]
    }
   ],
   "source": [
    "%%timeit\n",
    "div_by_three = sum(1 for _ in fibonacci_gen(100_000) if _%3 == 0)"
   ]
  },
  {
   "cell_type": "markdown",
   "metadata": {},
   "source": [
    "### Infinite Generators"
   ]
  },
  {
   "cell_type": "code",
   "execution_count": 52,
   "metadata": {},
   "outputs": [],
   "source": [
    "def fibonacci():\n",
    "    a,b = 0,1\n",
    "    while True:\n",
    "        yield a\n",
    "        a,b = b, a + b"
   ]
  }
 ],
 "metadata": {
  "kernelspec": {
   "display_name": "Python 3",
   "language": "python",
   "name": "python3"
  },
  "language_info": {
   "codemirror_mode": {
    "name": "ipython",
    "version": 3
   },
   "file_extension": ".py",
   "mimetype": "text/x-python",
   "name": "python",
   "nbconvert_exporter": "python",
   "pygments_lexer": "ipython3",
   "version": "3.12.8"
  }
 },
 "nbformat": 4,
 "nbformat_minor": 2
}
