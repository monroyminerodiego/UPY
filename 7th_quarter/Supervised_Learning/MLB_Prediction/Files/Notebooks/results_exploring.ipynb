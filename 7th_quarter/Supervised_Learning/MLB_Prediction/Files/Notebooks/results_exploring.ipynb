{
 "cells": [
  {
   "cell_type": "markdown",
   "metadata": {},
   "source": [
    "# Results Exploring\n",
    "\n",
    "De las pruebas con los modelos, se van a evaluar los modelos más eficientes"
   ]
  },
  {
   "cell_type": "code",
   "execution_count": 1,
   "metadata": {},
   "outputs": [],
   "source": [
    "import os, json, sys\n",
    "import pandas as pd\n",
    "import numpy as np\n",
    "from sklearn.model_selection import train_test_split\n",
    "\n",
    "# ====== Variables globales\n",
    "__file__      = os.path.join(os.getcwd(),'data_exploring.ipynb')\n",
    "location_path = os.path.dirname(os.path.dirname(os.path.dirname(__file__)))\n",
    "\n",
    "# ===== Modulos\n",
    "sys.path.append(location_path)\n",
    "from Scripts.pipeline import Pipeline"
   ]
  },
  {
   "cell_type": "markdown",
   "metadata": {},
   "source": [
    "### Results"
   ]
  },
  {
   "cell_type": "code",
   "execution_count": 2,
   "metadata": {},
   "outputs": [
    {
     "data": {
      "text/html": [
       "<div>\n",
       "<style scoped>\n",
       "    .dataframe tbody tr th:only-of-type {\n",
       "        vertical-align: middle;\n",
       "    }\n",
       "\n",
       "    .dataframe tbody tr th {\n",
       "        vertical-align: top;\n",
       "    }\n",
       "\n",
       "    .dataframe thead th {\n",
       "        text-align: right;\n",
       "    }\n",
       "</style>\n",
       "<table border=\"1\" class=\"dataframe\">\n",
       "  <thead>\n",
       "    <tr style=\"text-align: right;\">\n",
       "      <th></th>\n",
       "      <th>Combinacion</th>\n",
       "      <th>RMSE</th>\n",
       "    </tr>\n",
       "  </thead>\n",
       "  <tbody>\n",
       "    <tr>\n",
       "      <th>0</th>\n",
       "      <td>I.J-E.1-N.A-G.A-R.B</td>\n",
       "      <td>29.881882</td>\n",
       "    </tr>\n",
       "    <tr>\n",
       "      <th>1</th>\n",
       "      <td>I.J-E.1-N.A-G.A-R.C</td>\n",
       "      <td>29.881882</td>\n",
       "    </tr>\n",
       "    <tr>\n",
       "      <th>2</th>\n",
       "      <td>I.J-E.1-N.A-G.A-R.D</td>\n",
       "      <td>29.881882</td>\n",
       "    </tr>\n",
       "    <tr>\n",
       "      <th>3</th>\n",
       "      <td>I.J-E.1-N.D-G.A-R.B</td>\n",
       "      <td>30.303602</td>\n",
       "    </tr>\n",
       "    <tr>\n",
       "      <th>4</th>\n",
       "      <td>I.J-E.1-N.D-G.A-R.C</td>\n",
       "      <td>30.303602</td>\n",
       "    </tr>\n",
       "    <tr>\n",
       "      <th>5</th>\n",
       "      <td>I.J-E.1-N.D-G.A-R.D</td>\n",
       "      <td>30.303602</td>\n",
       "    </tr>\n",
       "    <tr>\n",
       "      <th>6</th>\n",
       "      <td>I.E-E.1-N.B-G.A-R.B</td>\n",
       "      <td>31.360524</td>\n",
       "    </tr>\n",
       "    <tr>\n",
       "      <th>7</th>\n",
       "      <td>I.E-E.1-N.B-G.A-R.C</td>\n",
       "      <td>31.360524</td>\n",
       "    </tr>\n",
       "    <tr>\n",
       "      <th>8</th>\n",
       "      <td>I.E-E.1-N.B-G.A-R.D</td>\n",
       "      <td>31.360524</td>\n",
       "    </tr>\n",
       "    <tr>\n",
       "      <th>9</th>\n",
       "      <td>I.J-E.1-N.A-G.A-R.A</td>\n",
       "      <td>31.361893</td>\n",
       "    </tr>\n",
       "    <tr>\n",
       "      <th>10</th>\n",
       "      <td>I.I-E.0-N.A-G.A-R.A</td>\n",
       "      <td>31.515087</td>\n",
       "    </tr>\n",
       "    <tr>\n",
       "      <th>11</th>\n",
       "      <td>I.J-E.1-N.D-G.A-R.A</td>\n",
       "      <td>31.527580</td>\n",
       "    </tr>\n",
       "    <tr>\n",
       "      <th>12</th>\n",
       "      <td>I.E-E.1-N.D-G.A-R.B</td>\n",
       "      <td>31.645675</td>\n",
       "    </tr>\n",
       "    <tr>\n",
       "      <th>13</th>\n",
       "      <td>I.E-E.1-N.D-G.A-R.C</td>\n",
       "      <td>31.645675</td>\n",
       "    </tr>\n",
       "    <tr>\n",
       "      <th>14</th>\n",
       "      <td>I.E-E.1-N.D-G.A-R.D</td>\n",
       "      <td>31.645675</td>\n",
       "    </tr>\n",
       "    <tr>\n",
       "      <th>15</th>\n",
       "      <td>P.E-E.0-N.E-G.A-R.A</td>\n",
       "      <td>31.689973</td>\n",
       "    </tr>\n",
       "  </tbody>\n",
       "</table>\n",
       "</div>"
      ],
      "text/plain": [
       "            Combinacion       RMSE\n",
       "0   I.J-E.1-N.A-G.A-R.B  29.881882\n",
       "1   I.J-E.1-N.A-G.A-R.C  29.881882\n",
       "2   I.J-E.1-N.A-G.A-R.D  29.881882\n",
       "3   I.J-E.1-N.D-G.A-R.B  30.303602\n",
       "4   I.J-E.1-N.D-G.A-R.C  30.303602\n",
       "5   I.J-E.1-N.D-G.A-R.D  30.303602\n",
       "6   I.E-E.1-N.B-G.A-R.B  31.360524\n",
       "7   I.E-E.1-N.B-G.A-R.C  31.360524\n",
       "8   I.E-E.1-N.B-G.A-R.D  31.360524\n",
       "9   I.J-E.1-N.A-G.A-R.A  31.361893\n",
       "10  I.I-E.0-N.A-G.A-R.A  31.515087\n",
       "11  I.J-E.1-N.D-G.A-R.A  31.527580\n",
       "12  I.E-E.1-N.D-G.A-R.B  31.645675\n",
       "13  I.E-E.1-N.D-G.A-R.C  31.645675\n",
       "14  I.E-E.1-N.D-G.A-R.D  31.645675\n",
       "15  P.E-E.0-N.E-G.A-R.A  31.689973"
      ]
     },
     "execution_count": 2,
     "metadata": {},
     "output_type": "execute_result"
    }
   ],
   "source": [
    "results = {}\n",
    "\n",
    "imputed_results = os.path.join(location_path,'Files','Data','Transformed','predictions_imputation.json')\n",
    "with open(imputed_results,'r') as file: data = json.load(file)\n",
    "results = results|data\n",
    "\n",
    "patron_results = os.path.join(location_path,'Files','Data','Transformed','predictions.json')\n",
    "with open(patron_results,'r') as file: data = json.load(file)\n",
    "results = results|data\n",
    "\n",
    "results = pd.DataFrame(data = list(results.items()),columns=['Combinacion','RMSE'])\n",
    "results = results[\n",
    "    results['Combinacion'].str.contains('I.B',na=False) | \n",
    "    results['Combinacion'].str.contains('I.C',na=False) | \n",
    "    results['Combinacion'].str.contains('I.D',na=False) | \n",
    "    results['Combinacion'].str.contains('I.E',na=False) | \n",
    "    results['Combinacion'].str.contains('I.F',na=False) | \n",
    "    results['Combinacion'].str.contains('I.G',na=False) | \n",
    "    results['Combinacion'].str.contains('I.H',na=False) | \n",
    "    results['Combinacion'].str.contains('I.I',na=False) | \n",
    "    results['Combinacion'].str.contains('I.J',na=False) |\n",
    "    results['Combinacion'].str.contains('P.B',na=False) | \n",
    "    results['Combinacion'].str.contains('P.C',na=False) | \n",
    "    results['Combinacion'].str.contains('P.D',na=False) | \n",
    "    results['Combinacion'].str.contains('P.E',na=False) | \n",
    "    results['Combinacion'].str.contains('P.F',na=False) | \n",
    "    results['Combinacion'].str.contains('P.G',na=False) | \n",
    "    results['Combinacion'].str.contains('P.H',na=False) \n",
    "]\n",
    "results.sort_values(by = ['RMSE','Combinacion'],ignore_index=True,inplace=True)\n",
    "results.head(16)\n"
   ]
  },
  {
   "cell_type": "code",
   "execution_count": 3,
   "metadata": {},
   "outputs": [
    {
     "name": "stdout",
     "output_type": "stream",
     "text": [
      "I.J-E.1-N.A-G.A-R.B:    32.451851003004165\n",
      "I.J-E.1-N.A-G.A-R.C:    30.322194277183417\n",
      "I.J-E.1-N.A-G.A-R.D:    34.408279179095835\n",
      "I.J-E.1-N.D-G.A-R.B:    32.18797303500221\n"
     ]
    }
   ],
   "source": [
    "# ===== Best combinations\n",
    "combinations = ['I.J-E.1-N.A-G.A-R.B','I.J-E.1-N.A-G.A-R.C','I.J-E.1-N.A-G.A-R.D','I.J-E.1-N.D-G.A-R.B']\n",
    "pipe = Pipeline()\n",
    "pipe.intentar_combinaciones_personalizado(combinations,polinomial=False)"
   ]
  },
  {
   "cell_type": "markdown",
   "metadata": {},
   "source": [
    "# Author\n",
    "* Diego Monroy Minero\n",
    "\n",
    "# Github:\n"
   ]
  }
 ],
 "metadata": {
  "kernelspec": {
   "display_name": "Python 3",
   "language": "python",
   "name": "python3"
  },
  "language_info": {
   "codemirror_mode": {
    "name": "ipython",
    "version": 3
   },
   "file_extension": ".py",
   "mimetype": "text/x-python",
   "name": "python",
   "nbconvert_exporter": "python",
   "pygments_lexer": "ipython3",
   "version": "3.12.8"
  }
 },
 "nbformat": 4,
 "nbformat_minor": 2
}
