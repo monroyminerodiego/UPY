{
 "cells": [
  {
   "cell_type": "markdown",
   "metadata": {},
   "source": [
    "# Simple Linear Regression example\n",
    "\n",
    "This notebook show you different ways of solving Univariate Linear Regression with example data."
   ]
  },
  {
   "cell_type": "markdown",
   "metadata": {},
   "source": [
    "## Simple Linear Regression\n",
    "\n",
    "We are going to use one variable $x$ to predict some values $y$. We will compare the results obtained with Scikit-Learn library with those obtained with the algebraic solution and the gradient descent algorithm."
   ]
  },
  {
   "cell_type": "code",
   "execution_count": 2,
   "metadata": {},
   "outputs": [],
   "source": [
    "import numpy as np\n",
    "import pandas as pd\n",
    "import matplotlib.pyplot as plt\n",
    "from sklearn.linear_model import LinearRegression\n",
    "# from tqdm import tqdm"
   ]
  },
  {
   "cell_type": "markdown",
   "metadata": {},
   "source": [
    "Lets create some synthetic data to illustrate Simple Linear Regression."
   ]
  },
  {
   "cell_type": "code",
   "execution_count": 3,
   "metadata": {},
   "outputs": [
    {
     "data": {
      "image/png": "[encoded data removed]",
      "text/plain": [
       "<Figure size 600x400 with 1 Axes>"
      ]
     },
     "metadata": {},
     "output_type": "display_data"
    }
   ],
   "source": [
    "# Random seed and sample size\n",
    "np.random.seed(0)\n",
    "m = 30\n",
    "# Synthetic weights\n",
    "intercept = 5.4\n",
    "slope = -1.2\n",
    "# Linear function\n",
    "f = lambda x: intercept + slope * x\n",
    "# Generate data and add some noise\n",
    "x = np.random.randn(m)\n",
    "y = f(x) + np.random.randn(m) * 0.2   # Here y = f(x) + some random noise\n",
    "# Reshape for sklearn\n",
    "x = x.reshape(-1, 1)\n",
    "y = y.reshape(-1, 1)\n",
    "# Plot training data\n",
    "plt.figure(figsize=(6, 4));\n",
    "plt.scatter(x, y);"
   ]
  },
  {
   "cell_type": "code",
   "execution_count": 4,
   "metadata": {},
   "outputs": [
    {
     "data": {
      "text/plain": [
       "((30, 1), (30, 1))"
      ]
     },
     "execution_count": 4,
     "metadata": {},
     "output_type": "execute_result"
    }
   ],
   "source": [
    "x.shape, y.shape"
   ]
  },
  {
   "cell_type": "markdown",
   "metadata": {},
   "source": [
    "### Scikit-Learn\n",
    "\n",
    "First, we fit a linear regression model and obtain the coeffcients with Scikit-Learn."
   ]
  },
  {
   "cell_type": "code",
   "execution_count": 5,
   "metadata": {},
   "outputs": [
    {
     "name": "stdout",
     "output_type": "stream",
     "text": [
      "[5.35776844] [[-1.23539027]]\n"
     ]
    }
   ],
   "source": [
    "lr = LinearRegression()\n",
    "lr.fit(x, y)\n",
    "print(lr.intercept_, lr.coef_)"
   ]
  },
  {
   "cell_type": "markdown",
   "metadata": {},
   "source": [
    "We can see the model parameters obtained with scikit-learn are close enough to the intercept and the slope used to generate the data."
   ]
  },
  {
   "cell_type": "markdown",
   "metadata": {},
   "source": [
    "$\\hat{y} = 5.3578 - 1.2354 x$"
   ]
  },
  {
   "cell_type": "code",
   "execution_count": 6,
   "metadata": {},
   "outputs": [
    {
     "data": {
      "text/plain": [
       "array([[4.12237817],\n",
       "       [2.88698789],\n",
       "       [1.65159762]])"
      ]
     },
     "execution_count": 6,
     "metadata": {},
     "output_type": "execute_result"
    }
   ],
   "source": [
    "lr.predict(np.array([1,2,3]).reshape(-1,1))"
   ]
  },
  {
   "cell_type": "markdown",
   "metadata": {},
   "source": [
    "### Algebraic solution\n",
    "\n",
    "Your turn now is to compute $\\theta_0$ and $\\theta_1$ with the equations for univariate linear regression.\n",
    "\n",
    "$$\\overline{x} = \\frac{1}{m} \\sum_{i=1}^m{x^{(i)}}$$\n",
    "$$\\overline{y} = \\frac{1}{m} \\sum_{i=1}^m{y^{(i)}}$$\n",
    "$$S_{xx} = \\frac{1}{m} \\sum_{i=1}^m{(x^{(i)}-\\overline{x})(x^{(i)}-\\overline{x})}$$\n",
    "$$S_{xy} = \\frac{1}{m} \\sum_{i=1}^m{(x^{(i)}-\\overline{x})(y^{(i)}-\\overline{y})}$$\n",
    "$$\\theta_1 = \\frac{S_{xy}}{S_{xx}}$$\n",
    "$$\\theta_0 = \\overline{y} - \\theta_1 \\overline{x}$$\n",
    "\n",
    "Once you obtain those parameters compute the residuals of the training data and plot the points with the fitted line."
   ]
  },
  {
   "cell_type": "code",
   "execution_count": 22,
   "metadata": {},
   "outputs": [
    {
     "data": {
      "text/plain": [
       "(array([0.44285645]), array([4.81066789]))"
      ]
     },
     "execution_count": 22,
     "metadata": {},
     "output_type": "execute_result"
    }
   ],
   "source": [
    "x_m = sum(x) / len(x)\n",
    "y_m = sum(y) / len(y)\n",
    "x_m, y_m"
   ]
  },
  {
   "cell_type": "code",
   "execution_count": 23,
   "metadata": {},
   "outputs": [
    {
     "data": {
      "text/plain": [
       "(array([1.1703652]), array([-1.44585779]))"
      ]
     },
     "execution_count": 23,
     "metadata": {},
     "output_type": "execute_result"
    }
   ],
   "source": [
    "SSxx = sum([(x[index] - x_m)*(x[index] - x_m) for index in range(len(x))]) / len(x)\n",
    "SSxy = sum([(x[index] - x_m)*(y[index] - y_m) for index in range(len(x))]) / len(y)\n",
    "SSxx, SSxy"
   ]
  },
  {
   "cell_type": "code",
   "execution_count": 19,
   "metadata": {},
   "outputs": [
    {
     "data": {
      "text/plain": [
       "(array([5.35776844]), array([-1.23539027]))"
      ]
     },
     "execution_count": 19,
     "metadata": {},
     "output_type": "execute_result"
    }
   ],
   "source": [
    "theta1 = SSxy / SSxx\n",
    "theta0 = y_m - (theta1*x_m)\n",
    "theta0, theta1"
   ]
  },
  {
   "cell_type": "markdown",
   "metadata": {},
   "source": [
    "We can see that the values obtained with the algebraic solution are very close to those obtained with scikit-learn. Now, let's plot the data points with the fitted line."
   ]
  },
  {
   "cell_type": "code",
   "execution_count": 20,
   "metadata": {},
   "outputs": [],
   "source": [
    "def plot_line(x, y, theta0, theta1, title='Simple Linear Regression'):\n",
    "    plt.figure(figsize=(6, 4))\n",
    "    ax = plt.axes()\n",
    "    ax.scatter(x, y)\n",
    "    x_line = np.linspace(np.min(x), np.max(x), 100)\n",
    "    y_line = theta0 + theta1 * x_line\n",
    "    ax.set_title(title)\n",
    "    ax.plot(x_line, y_line, '-r');  "
   ]
  },
  {
   "cell_type": "code",
   "execution_count": 21,
   "metadata": {},
   "outputs": [
    {
     "data": {
      "image/png": "[encoded data removed]",
      "text/plain": [
       "<Figure size 600x400 with 1 Axes>"
      ]
     },
     "metadata": {},
     "output_type": "display_data"
    }
   ],
   "source": [
    "plot_line(x, y, theta0, theta1)"
   ]
  },
  {
   "cell_type": "markdown",
   "metadata": {},
   "source": [
    "### Gradient Descent for LR\n",
    "\n",
    "Now, you should implement the gradient descent algorithm to train a simple linear regression model.\n",
    "\n",
    "* Define a variable for the learning rate $\\alpha$ and try with different values (i.e. 0.01, 0.1).\n",
    "* Initialize $\\theta_0$ and $\\theta_1$ with random values (after it works also try initializing with zeros to see what happens).\n",
    "* Define a maximum number of iterations.\n",
    "* Plot the training error after each epoch (full pass over the data).\n",
    "* Plot in 3D the value of $J(\\theta_0, \\theta_1)$ as a function of the parameters."
   ]
  },
  {
   "cell_type": "code",
   "execution_count": null,
   "metadata": {},
   "outputs": [],
   "source": []
  }
 ],
 "metadata": {
  "kernelspec": {
   "display_name": "base",
   "language": "python",
   "name": "python3"
  },
  "language_info": {
   "codemirror_mode": {
    "name": "ipython",
    "version": 3
   },
   "file_extension": ".py",
   "mimetype": "text/x-python",
   "name": "python",
   "nbconvert_exporter": "python",
   "pygments_lexer": "ipython3",
   "version": "3.12.8"
  }
 },
 "nbformat": 4,
 "nbformat_minor": 4
}
