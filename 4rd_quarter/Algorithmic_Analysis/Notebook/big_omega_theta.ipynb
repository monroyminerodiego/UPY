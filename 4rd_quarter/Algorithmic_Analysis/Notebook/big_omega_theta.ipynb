{
 "cells": [
  {
   "cell_type": "markdown",
   "metadata": {},
   "source": [
    "**Big OMEGA exercises**"
   ]
  },
  {
   "cell_type": "markdown",
   "metadata": {},
   "source": [
    "**Exercise 1: Basic Control Flow**\n",
    "\n",
    "\n",
    "Write a Python function that takes an integer as input and prints whether it is even or odd."
   ]
  },
  {
   "cell_type": "code",
   "execution_count": 3,
   "metadata": {},
   "outputs": [
    {
     "data": {
      "text/plain": [
       "'even'"
      ]
     },
     "execution_count": 3,
     "metadata": {},
     "output_type": "execute_result"
    }
   ],
   "source": [
    "def even_or_odd(number:int = 7):\n",
    "    return \"even\" if number%2 == 0 else 'odd'\n",
    "\n",
    "even_or_odd()"
   ]
  },
  {
   "cell_type": "markdown",
   "metadata": {},
   "source": [
    "**Exercise 2: Lists and Loops**\n",
    "\n",
    "\n",
    "Write a Python function that takes a list of numbers as input and returns the sum of all the even numbers in the list."
   ]
  },
  {
   "cell_type": "code",
   "execution_count": 2,
   "metadata": {},
   "outputs": [
    {
     "data": {
      "text/plain": [
       "20"
      ]
     },
     "execution_count": 2,
     "metadata": {},
     "output_type": "execute_result"
    }
   ],
   "source": [
    "def sum_of_even(array:list = [9,1,7,3,6,4,8,5,2,0]):\n",
    "    return sum([x for x in array if x%2 == 0])\n",
    "\n",
    "sum_of_even()"
   ]
  },
  {
   "cell_type": "markdown",
   "metadata": {},
   "source": [
    "**Exercise 3: String Manipulation**\n",
    "\n",
    "\n",
    "Write a Python function that takes a string as input and returns the reversed version of the string."
   ]
  },
  {
   "cell_type": "code",
   "execution_count": 4,
   "metadata": {},
   "outputs": [
    {
     "data": {
      "text/plain": [
       "'ogeiD'"
      ]
     },
     "execution_count": 4,
     "metadata": {},
     "output_type": "execute_result"
    }
   ],
   "source": [
    "def invert(string:str = 'Diego'):\n",
    "    return string[::-1]\n",
    "\n",
    "invert()"
   ]
  },
  {
   "cell_type": "markdown",
   "metadata": {},
   "source": [
    "**Exercise 4: Functions and Recursion**\n",
    "\n",
    "\n",
    "Write a Python function that calculates the factorial of a given positive integer using recursion."
   ]
  },
  {
   "cell_type": "code",
   "execution_count": 7,
   "metadata": {},
   "outputs": [
    {
     "data": {
      "text/plain": [
       "6"
      ]
     },
     "execution_count": 7,
     "metadata": {},
     "output_type": "execute_result"
    }
   ],
   "source": [
    "def factorial_positive(number:int = 3):\n",
    "    if number == 0:\n",
    "        return 1\n",
    "    else:\n",
    "        return number * factorial_positive(number-1)\n",
    "    \n",
    "factorial_positive()"
   ]
  },
  {
   "cell_type": "markdown",
   "metadata": {},
   "source": [
    "**Exercise 5: Dictionaries**\n",
    "\n",
    "\n",
    "Write a Python function that takes a dictionary as input and prints the keys and values."
   ]
  },
  {
   "cell_type": "code",
   "execution_count": null,
   "metadata": {},
   "outputs": [],
   "source": [
    "def print_keys(dictionary:dict = {\"Name\":\"Diego\",\"Last Name\":\"Monroy\"}):\n",
    "    for key in dictionary.keys():\n",
    "        print(f\"Key - {key} == Value - {dictionary[key]}\")\n",
    "\n",
    "print_keys()"
   ]
  },
  {
   "cell_type": "markdown",
   "metadata": {},
   "source": [
    "**Big THETA exercises**"
   ]
  },
  {
   "cell_type": "markdown",
   "metadata": {},
   "source": [
    "**Exercise 1: List Manipulation**\n",
    "\n",
    "\n",
    "Write a Python function that takes a list of integers as input and returns a new list containing only the even numbers."
   ]
  },
  {
   "cell_type": "code",
   "execution_count": null,
   "metadata": {},
   "outputs": [],
   "source": []
  },
  {
   "cell_type": "markdown",
   "metadata": {},
   "source": [
    "**Exercise 2: File Handling**\n",
    "\n",
    "\n",
    "Write a Python program that reads a text file, counts the occurrences of each word, and prints the result."
   ]
  },
  {
   "cell_type": "code",
   "execution_count": null,
   "metadata": {},
   "outputs": [],
   "source": []
  },
  {
   "cell_type": "markdown",
   "metadata": {},
   "source": [
    "**Exercise 3: Object-Oriented Programming**\n",
    "\n",
    "Create a Python class representing a basic calculator with methods for addition, subtraction, multiplication, and division."
   ]
  },
  {
   "cell_type": "code",
   "execution_count": null,
   "metadata": {},
   "outputs": [],
   "source": []
  },
  {
   "cell_type": "markdown",
   "metadata": {},
   "source": [
    "**Exercise 4: Recursion**\n",
    "\n",
    "Write a recursive function to calculate the nth Fibonacci number."
   ]
  },
  {
   "cell_type": "code",
   "execution_count": null,
   "metadata": {},
   "outputs": [],
   "source": []
  }
 ],
 "metadata": {
  "kernelspec": {
   "display_name": "Python 3",
   "language": "python",
   "name": "python3"
  },
  "language_info": {
   "codemirror_mode": {
    "name": "ipython",
    "version": 3
   },
   "file_extension": ".py",
   "mimetype": "text/x-python",
   "name": "python",
   "nbconvert_exporter": "python",
   "pygments_lexer": "ipython3",
   "version": "3.10.5"
  }
 },
 "nbformat": 4,
 "nbformat_minor": 2
}
