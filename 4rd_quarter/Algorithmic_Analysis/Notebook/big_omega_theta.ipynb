{
 "cells": [
  {
   "cell_type": "markdown",
   "metadata": {},
   "source": [
    "**Big OMEGA exercises**"
   ]
  },
  {
   "cell_type": "markdown",
   "metadata": {},
   "source": [
    "**Exercise 1: Basic Control Flow**\n",
    "\n",
    "\n",
    "Write a Python function that takes an integer as input and prints whether it is even or odd."
   ]
  },
  {
   "cell_type": "code",
   "execution_count": 3,
   "metadata": {},
   "outputs": [
    {
     "data": {
      "text/plain": [
       "'even'"
      ]
     },
     "execution_count": 3,
     "metadata": {},
     "output_type": "execute_result"
    }
   ],
   "source": [
    "def even_or_odd(number:int = 7):\n",
    "    'O(1)'\n",
    "    return \"even\" if number%2 == 0 else 'odd'\n",
    "\n",
    "even_or_odd()"
   ]
  },
  {
   "cell_type": "markdown",
   "metadata": {},
   "source": [
    "**Exercise 2: Lists and Loops**\n",
    "\n",
    "\n",
    "Write a Python function that takes a list of numbers as input and returns the sum of all the even numbers in the list."
   ]
  },
  {
   "cell_type": "code",
   "execution_count": 2,
   "metadata": {},
   "outputs": [
    {
     "data": {
      "text/plain": [
       "20"
      ]
     },
     "execution_count": 2,
     "metadata": {},
     "output_type": "execute_result"
    }
   ],
   "source": [
    "def sum_of_even(array:list = [9,1,7,3,6,4,8,5,2,0]):\n",
    "    'O(n)'\n",
    "    return sum([x for x in array if x%2 == 0])\n",
    "\n",
    "sum_of_even()"
   ]
  },
  {
   "cell_type": "markdown",
   "metadata": {},
   "source": [
    "**Exercise 3: String Manipulation**\n",
    "\n",
    "\n",
    "Write a Python function that takes a string as input and returns the reversed version of the string."
   ]
  },
  {
   "cell_type": "code",
   "execution_count": 4,
   "metadata": {},
   "outputs": [
    {
     "data": {
      "text/plain": [
       "'ogeiD'"
      ]
     },
     "execution_count": 4,
     "metadata": {},
     "output_type": "execute_result"
    }
   ],
   "source": [
    "def invert(string:str = 'Diego'):\n",
    "    'O(1)'\n",
    "    return string[::-1]\n",
    "\n",
    "invert()"
   ]
  },
  {
   "cell_type": "markdown",
   "metadata": {},
   "source": [
    "**Exercise 4: Functions and Recursion**\n",
    "\n",
    "\n",
    "Write a Python function that calculates the factorial of a given positive integer using recursion."
   ]
  },
  {
   "cell_type": "code",
   "execution_count": 7,
   "metadata": {},
   "outputs": [
    {
     "data": {
      "text/plain": [
       "6"
      ]
     },
     "execution_count": 7,
     "metadata": {},
     "output_type": "execute_result"
    }
   ],
   "source": [
    "def factorial_positive(number:int = 3):\n",
    "    'O(1)'\n",
    "    if number == 0:\n",
    "        return 1\n",
    "    else:\n",
    "        return number * factorial_positive(number-1)\n",
    "    \n",
    "factorial_positive()"
   ]
  },
  {
   "cell_type": "markdown",
   "metadata": {},
   "source": [
    "**Exercise 5: Dictionaries**\n",
    "\n",
    "\n",
    "Write a Python function that takes a dictionary as input and prints the keys and values."
   ]
  },
  {
   "cell_type": "code",
   "execution_count": 8,
   "metadata": {},
   "outputs": [
    {
     "name": "stdout",
     "output_type": "stream",
     "text": [
      "Key - Name == Value - Diego\n",
      "Key - Last Name == Value - Monroy\n"
     ]
    }
   ],
   "source": [
    "def print_keys(dictionary:dict = {\"Name\":\"Diego\",\"Last Name\":\"Monroy\"}):\n",
    "    'O(1)'\n",
    "    for key in dictionary.keys():\n",
    "        print(f\"Key - {key} == Value - {dictionary[key]}\")\n",
    "\n",
    "print_keys()"
   ]
  },
  {
   "cell_type": "markdown",
   "metadata": {},
   "source": [
    "**Big THETA exercises**"
   ]
  },
  {
   "cell_type": "markdown",
   "metadata": {},
   "source": [
    "**Exercise 1: List Manipulation**\n",
    "\n",
    "\n",
    "Write a Python function that takes a list of integers as input and returns a new list containing only the even numbers."
   ]
  },
  {
   "cell_type": "code",
   "execution_count": 1,
   "metadata": {},
   "outputs": [
    {
     "data": {
      "text/plain": [
       "[6, 4, 8, 2, 0]"
      ]
     },
     "execution_count": 1,
     "metadata": {},
     "output_type": "execute_result"
    }
   ],
   "source": [
    "def get_even_numbers(array:list = [9,1,7,3,6,4,8,5,2,0]):\n",
    "    return [x for x in array if x%2 == 0]\n",
    "\n",
    "get_even_numbers()"
   ]
  },
  {
   "cell_type": "markdown",
   "metadata": {},
   "source": [
    "**Exercise 2: File Handling**\n",
    "\n",
    "\n",
    "Write a Python program that reads a text file, counts the occurrences of each word, and prints the result."
   ]
  },
  {
   "cell_type": "code",
   "execution_count": 31,
   "metadata": {},
   "outputs": [
    {
     "name": "stdout",
     "output_type": "stream",
     "text": [
      "Algorithms: 2\n",
      "Analysis: 1\n",
      "Detailed: 1\n",
      "Description: 1\n",
      "Class_resources: 1\n",
      "Folder: 2\n",
      "With: 4\n",
      "All: 2\n",
      "The: 4\n",
      "Resources: 1\n",
      "Given: 1\n",
      "By: 1\n",
      "Teacher: 1\n",
      "Big_o.ipynb: 1\n",
      "Jupyter: 2\n",
      "Notebook: 3\n",
      "Some: 2\n",
      "Examples: 1\n",
      "Of: 2\n",
      "Big: 3\n",
      "O: 1\n",
      "Complexity: 1\n",
      "Exercises: 3\n",
      "Homeworks: 1\n",
      "Projects: 1\n",
      "Made: 1\n",
      "During: 1\n",
      "Class: 1\n",
      "Big_o_exercise.py: 1\n",
      "This: 1\n",
      "Homework: 1\n",
      "Explores: 1\n",
      "Sorting: 1\n",
      "That: 1\n",
      "Achieve: 1\n",
      "Different: 1\n",
      "Time: 3\n",
      "Complexities,: 1\n",
      "Ranging: 1\n",
      "From: 1\n",
      "Constant: 1\n",
      "To: 1\n",
      "Quadratic: 1\n",
      "Big_omega_theta.ipynb: 1\n",
      "Omega: 1\n",
      "And: 1\n",
      "Theta: 1\n"
     ]
    }
   ],
   "source": [
    "def count_ocurrences(file:str = '../README.md'):\n",
    "    # Reading the text file\n",
    "    file = open(file)\n",
    "    # Counting words\n",
    "    words_currency = {}\n",
    "    for line in file:\n",
    "        line = line.replace('\\n','').replace('__','').replace('/','').split(' ')\n",
    "        line = [word for word in line if (word != '') and (word != '#') and (word != '##') and (word != '*')]\n",
    "        for word in line:\n",
    "            word = word.capitalize()\n",
    "            if word[-1] == '.': word = word[:-1]\n",
    "            if not(word in words_currency.keys()):\n",
    "                words_currency[word] = 1\n",
    "            elif word in words_currency.keys():\n",
    "                words_currency[word] += 1\n",
    "    # Printing words and occurrences\n",
    "    for key in words_currency.keys():\n",
    "        print(f\"{key}: {words_currency[key]}\")\n",
    "\n",
    "count_ocurrences()"
   ]
  },
  {
   "cell_type": "markdown",
   "metadata": {},
   "source": [
    "**Exercise 3: Object-Oriented Programming**\n",
    "\n",
    "Create a Python class representing a basic calculator with methods for addition, subtraction, multiplication, and division."
   ]
  },
  {
   "cell_type": "code",
   "execution_count": 35,
   "metadata": {},
   "outputs": [
    {
     "name": "stdout",
     "output_type": "stream",
     "text": [
      "\n",
      "6\n",
      "-6\n",
      "6\n",
      "0.16666666666666666\n",
      "\n"
     ]
    }
   ],
   "source": [
    "class basic_calculator:\n",
    "    def sumar(self,list_of_numbers:list = [1,2,3]):\n",
    "        return sum(list_of_numbers)\n",
    "    \n",
    "    def restar(self,list_of_numbers:list = [1,2,3]):\n",
    "        result = 0\n",
    "        for number in list_of_numbers:\n",
    "            result -= number\n",
    "        return result\n",
    "    \n",
    "    def multiplicar(self,list_of_numbers:list = [1,2,3]):\n",
    "        result = 1\n",
    "        for number in list_of_numbers:\n",
    "            result *= number\n",
    "        return result\n",
    "\n",
    "    def dividir(self,list_of_numbers:list = [1,2,3]):\n",
    "        result = 1\n",
    "        for number in list_of_numbers:\n",
    "            result /= number\n",
    "        return result\n",
    "    \n",
    "test = basic_calculator()\n",
    "print(f\"\"\"\n",
    "{test.sumar()}\n",
    "{test.restar()}\n",
    "{test.multiplicar()}\n",
    "{test.dividir()}\n",
    "\"\"\")"
   ]
  },
  {
   "cell_type": "markdown",
   "metadata": {},
   "source": [
    "**Exercise 4: Recursion**\n",
    "\n",
    "Write a recursive function to calculate the nth Fibonacci number."
   ]
  },
  {
   "cell_type": "code",
   "execution_count": 46,
   "metadata": {},
   "outputs": [
    {
     "data": {
      "text/plain": [
       "55"
      ]
     },
     "execution_count": 46,
     "metadata": {},
     "output_type": "execute_result"
    }
   ],
   "source": [
    "def fibonacci(number:int = 10):\n",
    "    if number < 1:\n",
    "        return 0\n",
    "    elif number == 1:\n",
    "        return 1\n",
    "    else:\n",
    "        return fibonacci(number - 1) + fibonacci(number - 2)\n",
    "    \n",
    "fibonacci()"
   ]
  }
 ],
 "metadata": {
  "kernelspec": {
   "display_name": "Python 3",
   "language": "python",
   "name": "python3"
  },
  "language_info": {
   "codemirror_mode": {
    "name": "ipython",
    "version": 3
   },
   "file_extension": ".py",
   "mimetype": "text/x-python",
   "name": "python",
   "nbconvert_exporter": "python",
   "pygments_lexer": "ipython3",
   "version": "3.10.5"
  }
 },
 "nbformat": 4,
 "nbformat_minor": 2
}
