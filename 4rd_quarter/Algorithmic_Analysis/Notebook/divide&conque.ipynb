{
 "cells": [
  {
   "cell_type": "markdown",
   "metadata": {},
   "source": [
    "**Part 1: Understanding Divide and Conquer**\n",
    "\n",
    "Instructions:\n",
    "\n",
    "Explain in your own words what the Divide and Conquer paradigm is.\n",
    "Provide two real-world examples of problems that can be solved using this approach."
   ]
  },
  {
   "cell_type": "markdown",
   "metadata": {},
   "source": [
    "Answer:"
   ]
  },
  {
   "cell_type": "markdown",
   "metadata": {},
   "source": [
    "The Divide and Conquer paradigm involves breaking a problem into smaller, more manageable subproblems, solving them independently, and then combining their solutions to solve the original problem.\n",
    "\n",
    "Example 1: Binary Search - The search space is divided in half at each step, making it more efficient.\n",
    "\n",
    "Example 2: Merge Sort - Sorting is achieved by dividing the array into smaller parts, sorting them, and merging them back together."
   ]
  },
  {
   "cell_type": "markdown",
   "metadata": {},
   "source": [
    "**2.iscuss the advantages and disadvantages of using the Divide and Conquer paradigm.**"
   ]
  },
  {
   "cell_type": "markdown",
   "metadata": {},
   "source": [
    "Answer:"
   ]
  },
  {
   "cell_type": "markdown",
   "metadata": {},
   "source": [
    "Advantages: Can lead to efficient algorithms, often parallelizable, and suitable for problems with overlapping subproblems.\n",
    "\n",
    "Disadvantages: May have high constant factors due to the recursive nature, not always suitable for small input sizes."
   ]
  },
  {
   "cell_type": "markdown",
   "metadata": {},
   "source": [
    "**3. Implement the Merge Sort algorithm in Python.\n",
    "Include comments explaining each significant step in the algorithm.**"
   ]
  },
  {
   "cell_type": "code",
   "execution_count": null,
   "metadata": {
    "vscode": {
     "languageId": "plaintext"
    }
   },
   "outputs": [],
   "source": []
  },
  {
   "cell_type": "markdown",
   "metadata": {},
   "source": [
    "**Quick explanation of the code**\n",
    "\n",
    "The merge_sort function recursively divides the array until it reaches a base case.\n",
    "The merge function combines two sorted arrays into a single sorted array.\n",
    "Analysis:\n",
    "\n",
    "Merge Sort has a time complexity of O(n log n) and is considered efficient for large datasets."
   ]
  },
  {
   "cell_type": "markdown",
   "metadata": {},
   "source": [
    "**4. Implement the Quick Sort algorithm in Python.**\n",
    "**Include comments explaining each significant step in the algorithm.**"
   ]
  },
  {
   "cell_type": "code",
   "execution_count": null,
   "metadata": {
    "vscode": {
     "languageId": "plaintext"
    }
   },
   "outputs": [],
   "source": []
  },
  {
   "cell_type": "markdown",
   "metadata": {},
   "source": [
    "**Quick Sort**\n",
    "\n",
    "The quick_sort function recursively divides the array using a pivot element.\n",
    "Elements are grouped into smaller arrays based on their relation to the pivot.\n",
    "Analysis:\n",
    "\n",
    "Quick Sort has an average time complexity of O(n log n), making it efficient for diverse datasets."
   ]
  },
  {
   "cell_type": "markdown",
   "metadata": {},
   "source": [
    "**5. Generate random lists of integers for various sizes (e.g., 100, 1000, 10000).**\n",
    "**Use the timeit module to measure the runtime of Merge Sort and Quick Sort on each list.**\n",
    "**Create a comparative analysis, including runtime graphs using matplotlib,**\n",
    "**to visualize the efficiency of both sorting algorithms for different input sizes.**"
   ]
  },
  {
   "cell_type": "code",
   "execution_count": null,
   "metadata": {
    "vscode": {
     "languageId": "plaintext"
    }
   },
   "outputs": [],
   "source": []
  },
  {
   "cell_type": "markdown",
   "metadata": {},
   "source": [
    "**Quic Sort & Merge Sort**\n",
    "Random lists of integers are generated for different sizes using the generate_random_list function.\n",
    "The timeit module measures the runtime of Merge Sort and Quick Sort for each list.\n",
    "The comparative analysis is visualized using matplotlib."
   ]
  },
  {
   "cell_type": "markdown",
   "metadata": {},
   "source": [
    "**6.Write a concise conclusion summarizing your findings.**\n",
    "**Discuss the strengths and weaknesses of Merge Sort and Quick Sort based on your analysis.**\n",
    "**Conclude with insights into when each algorithm might be more suitable.**"
   ]
  },
  {
   "cell_type": "markdown",
   "metadata": {},
   "source": []
  }
 ],
 "metadata": {
  "language_info": {
   "name": "python"
  }
 },
 "nbformat": 4,
 "nbformat_minor": 2
}
