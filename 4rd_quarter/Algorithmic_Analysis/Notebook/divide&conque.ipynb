{
 "cells": [
  {
   "cell_type": "markdown",
   "metadata": {},
   "source": [
    "**Part 1: Understanding Divide and Conquer**\n",
    "\n",
    "Instructions:\n",
    "\n",
    "Explain in your own words what the Divide and Conquer paradigm is.\n",
    "Provide two real-world examples of problems that can be solved using this approach."
   ]
  },
  {
   "cell_type": "markdown",
   "metadata": {},
   "source": [
    "Answer: "
   ]
  },
  {
   "cell_type": "markdown",
   "metadata": {},
   "source": [
    "The Divide and Conquer paradigm involves breaking a problem into smaller, more manageable subproblems, solving them independently, and then combining their solutions to solve the original problem.\n",
    "\n",
    "Example 1: Binary Search - The search space is divided in half at each step, making it more efficient.\n",
    "\n",
    "Example 2: Merge Sort - Sorting is achieved by dividing the array into smaller parts, sorting them, and merging them back together."
   ]
  },
  {
   "cell_type": "markdown",
   "metadata": {},
   "source": [
    "**2.iscuss the advantages and disadvantages of using the Divide and Conquer paradigm.**"
   ]
  },
  {
   "cell_type": "markdown",
   "metadata": {},
   "source": [
    "Answer:"
   ]
  },
  {
   "cell_type": "markdown",
   "metadata": {},
   "source": [
    "Advantages: Can lead to efficient algorithms, often parallelizable, and suitable for problems with overlapping subproblems.\n",
    "\n",
    "Disadvantages: May have high constant factors due to the recursive nature, not always suitable for small input sizes."
   ]
  },
  {
   "cell_type": "markdown",
   "metadata": {},
   "source": [
    "**3. Implement the Merge Sort algorithm in Python.\n",
    "Include comments explaining each significant step in the algorithm.**"
   ]
  },
  {
   "cell_type": "code",
   "execution_count": 1,
   "metadata": {},
   "outputs": [
    {
     "data": {
      "text/plain": [
       "[0, 1, 2, 3, 4, 5, 6, 7, 8, 9]"
      ]
     },
     "execution_count": 1,
     "metadata": {},
     "output_type": "execute_result"
    }
   ],
   "source": [
    "def merge_sort(array:list = [9,1,7,3,8,2,4,5,6,0]) -> list:\n",
    "    \"\"\"\n",
    "    Sorts an array in ascending order using Merge Sort.\n",
    "    \n",
    "    ### Args:\n",
    "    * array (list): A list of elements to be sorted. Default is set to [9,1,7,3,8,2,4,5,6,0].\n",
    "\n",
    "    ### Returns:\n",
    "    * array: Sorted array list.\n",
    "    \"\"\"\n",
    "    if len(array) > 1:\n",
    "        # Finding the mid of the array\n",
    "        mid = len(array) // 2\n",
    "        # Dividing the array elements into 2 halves\n",
    "        L = array[:mid]\n",
    "        R = array[mid:]\n",
    "        # Sorting the first half\n",
    "        merge_sort(L)\n",
    "        # Sorting the second half\n",
    "        merge_sort(R)\n",
    "        i = j = k = 0\n",
    "        # Copy data to temp arrays L[] and R[]\n",
    "        while i < len(L) and j < len(R):\n",
    "            if L[i] < R[j]:\n",
    "                array[k] = L[i]\n",
    "                i += 1\n",
    "            else:\n",
    "                array[k] = R[j]\n",
    "                j += 1\n",
    "            k += 1\n",
    "        # Checking if any element was left\n",
    "        while i < len(L):\n",
    "            array[k] = L[i]\n",
    "            i += 1\n",
    "            k += 1\n",
    "        while j < len(R):\n",
    "            array[k] = R[j]\n",
    "            j += 1\n",
    "            k += 1\n",
    "    return array\n",
    "\n",
    "merge_sort()"
   ]
  },
  {
   "cell_type": "markdown",
   "metadata": {},
   "source": [
    "**Quick explanation of the code**\n",
    "\n",
    "The merge_sort function recursively divides the array until it reaches a base case.\n",
    "The merge function combines two sorted arrays into a single sorted array.\n",
    "Analysis:\n",
    "\n",
    "Merge Sort has a time complexity of O(n log n) and is considered efficient for large datasets."
   ]
  },
  {
   "cell_type": "markdown",
   "metadata": {},
   "source": [
    "**4. Implement the Quick Sort algorithm in Python.**\n",
    "**Include comments explaining each significant step in the algorithm.**"
   ]
  },
  {
   "cell_type": "code",
   "execution_count": 2,
   "metadata": {},
   "outputs": [
    {
     "data": {
      "text/plain": [
       "[0, 1, 2, 3, 4, 5, 6, 7, 8, 9]"
      ]
     },
     "execution_count": 2,
     "metadata": {},
     "output_type": "execute_result"
    }
   ],
   "source": [
    "def quick_sort(array:list = [9,1,7,3,8,2,4,5,6,0]):\n",
    "    \"\"\"\n",
    "    Sorts an array in ascending order using the Quick Sort algorithm.\n",
    "    \n",
    "    ### Args:\n",
    "    * array (list): A list of elements to be sorted. Default's to: [9,1,7,3,8,2,4,5,6,0].\n",
    "\n",
    "    ### Returns:\n",
    "    * list: The sorted list.\n",
    "    \"\"\"\n",
    "    # Base case: arrays with less than 2 elements are already sorted\n",
    "    if len(array) < 2:\n",
    "        return array\n",
    "    # Recursive case\n",
    "    else:\n",
    "        # Choosing the first element as the pivot\n",
    "        pivot = array[0]\n",
    "        # Separating elements smaller than pivot\n",
    "        less = [i for i in array[1:] if i <= pivot]\n",
    "        # Separating elements greater than pivot\n",
    "        greater = [i for i in array[1:] if i > pivot]\n",
    "        # Recursively sorting the sub-arrays and combining them with the pivot\n",
    "        return quick_sort(less) + [pivot] + quick_sort(greater)\n",
    "    \n",
    "quick_sort()"
   ]
  },
  {
   "cell_type": "markdown",
   "metadata": {},
   "source": [
    "**Quick Sort**\n",
    "\n",
    "The quick_sort function recursively divides the array using a pivot element.\n",
    "Elements are grouped into smaller arrays based on their relation to the pivot.\n",
    "Analysis:\n",
    "\n",
    "Quick Sort has an average time complexity of O(n log n), making it efficient for diverse datasets."
   ]
  },
  {
   "cell_type": "markdown",
   "metadata": {},
   "source": [
    "**5. Generate random lists of integers for various sizes (e.g., 100, 1000, 10000).**\n",
    "**Use the timeit module to measure the runtime of Merge Sort and Quick Sort on each list.**\n",
    "**Create a comparative analysis, including runtime graphs using matplotlib,**\n",
    "**to visualize the efficiency of both sorting algorithms for different input sizes.**"
   ]
  },
  {
   "cell_type": "code",
   "execution_count": 3,
   "metadata": {},
   "outputs": [
    {
     "data": {
      "image/png": "[encoded data removed]",
      "text/plain": [
       "<Figure size 720x432 with 1 Axes>"
      ]
     },
     "metadata": {
      "needs_background": "light"
     },
     "output_type": "display_data"
    }
   ],
   "source": [
    "import random\n",
    "import timeit\n",
    "import matplotlib.pyplot as plt\n",
    "# Function to generate a random list of integers\n",
    "def generate_random_list(size):\n",
    "    return random.sample(range(size * 2), size)\n",
    "\n",
    "# Sizes for the random lists\n",
    "sizes = [100, 1000, 10000]\n",
    "\n",
    "# Measuring the runtime for each algorithm and each size\n",
    "quick_sort_times = []\n",
    "merge_sort_times = []\n",
    "\n",
    "for size in sizes:\n",
    "    random_list = generate_random_list(size)\n",
    "\n",
    "    # Measure time for Quick Sort\n",
    "    qs_time = timeit.timeit(lambda: quick_sort(random_list.copy()), number=1)\n",
    "    quick_sort_times.append(qs_time)\n",
    "\n",
    "    # Measure time for Merge Sort\n",
    "    ms_time = timeit.timeit(lambda: merge_sort(random_list.copy()), number=1)\n",
    "    merge_sort_times.append(ms_time)\n",
    "\n",
    "# Plotting the results\n",
    "plt.figure(figsize=(10, 6))\n",
    "plt.plot(sizes, quick_sort_times, label='Quick Sort', marker='o')\n",
    "plt.plot(sizes, merge_sort_times, label='Merge Sort', marker='o')\n",
    "plt.xlabel('List Size')\n",
    "plt.ylabel('Time (seconds)')\n",
    "plt.title('Quick Sort vs Merge Sort Performance')\n",
    "plt.legend()\n",
    "plt.grid(True)\n",
    "plt.show()"
   ]
  },
  {
   "cell_type": "markdown",
   "metadata": {},
   "source": [
    "**Quic Sort & Merge Sort**\n",
    "Random lists of integers are generated for different sizes using the generate_random_list function.\n",
    "The timeit module measures the runtime of Merge Sort and Quick Sort for each list.\n",
    "The comparative analysis is visualized using matplotlib."
   ]
  },
  {
   "cell_type": "markdown",
   "metadata": {},
   "source": [
    "**6.Write a concise conclusion summarizing your findings.**\n",
    "**Discuss the strengths and weaknesses of Merge Sort and Quick Sort based on your analysis.**\n",
    "**Conclude with insights into when each algorithm might be more suitable.**"
   ]
  },
  {
   "cell_type": "markdown",
   "metadata": {},
   "source": [
    "### Conclusion\n",
    "Based on the performance analysis conducted with different list sizes (100, 1000, 10000), we can summarize the strengths and weaknesses of both Merge Sort and Quick Sort and provide insights into their suitability for various scenarios.\n",
    "\n",
    "#### Merge Sort\n",
    "* Strengths:\n",
    "    * Stable and Consistent Performance: Merge Sort shows consistent performance irrespective of the initial order of elements, as it always divides the array in half and merges them after sorting.\n",
    "    * Guaranteed O(n log n) Performance: Its time complexity is always O(n log n), making it highly predictable and reliable.\n",
    "    * Excellent for Large Data Sets: Particularly effective for sorting large data sets, especially when data cannot be loaded entirely into memory (external sorting).\n",
    "\n",
    "* Weaknesses:\n",
    "    * Space Complexity: Requires additional space proportional to the array size, which might be a constraint for very large arrays.\n",
    "    * Slightly Slower for Smaller Tasks: For small datasets, the overhead of recursive calls and additional space might make it slightly less efficient than other algorithms like Quick Sort.\n",
    "\n",
    "#### Quick Sort\n",
    "* Strengths:\n",
    "    * In-Place Sorting: Does not require additional storage which makes it more space-efficient.\n",
    "    * Faster on Average: Tends to be faster in practice, especially for small to medium-sized arrays, due to cache efficiency and lower constant factors.\n",
    "    * Good with Memory Hierarchy: Its locality of reference is good, making it perform well with the memory hierarchy (caching).\n",
    "\n",
    "* Weaknesses:\n",
    "    * Worst-Case Performance: The worst-case time complexity is O(n^2), which can occur with certain pivot choices (like choosing the first or last element in a sorted or nearly sorted array).\n",
    "    * Not Stable: The relative order of equal sort items is not necessarily preserved.\n",
    "    * Pivot Selection: The efficiency heavily depends on the choice of the pivot.\n",
    "\n",
    "**Suitability**\n",
    "* Merge Sort is more suitable for large, external datasets or when stable sorting is required. It's ideal for scenarios where time predictability is crucial, and additional space is not a major constraint.\n",
    "* Quick Sort excels in scenarios where space efficiency is critical and average performance is more important than worst-case performance. It's  well-suited for medium-sized datasets and in-memory sorting.\n",
    "\n",
    "\n",
    "In conclusion, the choice between Merge Sort and Quick Sort should be based on the specific requirements of the task at hand, considering factors such as dataset size, space constraints, and the importance of worst-case versus average-case performance."
   ]
  }
 ],
 "metadata": {
  "kernelspec": {
   "display_name": "Python 3",
   "language": "python",
   "name": "python3"
  },
  "language_info": {
   "codemirror_mode": {
    "name": "ipython",
    "version": 3
   },
   "file_extension": ".py",
   "mimetype": "text/x-python",
   "name": "python",
   "nbconvert_exporter": "python",
   "pygments_lexer": "ipython3",
   "version": "3.10.5"
  }
 },
 "nbformat": 4,
 "nbformat_minor": 2
}
