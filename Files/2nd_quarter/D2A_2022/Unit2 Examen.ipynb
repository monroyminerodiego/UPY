{
 "cells": [
  {
   "cell_type": "markdown",
   "metadata": {},
   "source": [
    "## Exam UNIT 2.\n",
    "\n",
    "Using selective commands like IF, ELIF, ELSE.\n",
    "Iterations commands like FOR, WHILE. With their corresponding BREAK, Continue commands.\n",
    "Make sur to use loops and conditions. DO NOT use any other functions available in python.\n",
    "Like SORT, REVERSE, Etc.\n",
    "\n",
    "Make sure to use JUPYTER NOTEBOOK for Python in your editor of choice or install it in your python enviroment.\n",
    "https://jupyter.org/install\n",
    "Or you can use Google Colab.\n",
    "https://colab.research.google.com/?hl=es\n",
    "https://research.google.com/colaboratory/\n",
    "\n",
    "Follow the instructions.\n",
    "\n",
    "The califications will be simple. Get the programs to work. Write as much detail in the comments and explain what the code is doing. Use meaningful variables names.\n",
    "\n",
    "Write the following code for the following exercises.\n"
   ]
  },
  {
   "cell_type": "markdown",
   "metadata": {},
   "source": [
    "For example this code does the following:\n",
    "\n",
    "Reversing a number using while loop in Python"
   ]
  },
  {
   "cell_type": "code",
   "execution_count": null,
   "metadata": {},
   "outputs": [],
   "source": [
    "# Code to reverse a number\n",
    "n = int(input(\"Enter a number: \"))\n",
    "rev = 0\n",
    "# Loop until n is not equal to 0\n",
    "while n!=0:\n",
    "    # Calculate the modulo\n",
    "    r = n%10\n",
    "    print(\"r\",r)\n",
    "    # New Reverse number\n",
    "    rev = rev * 10 + r\n",
    "    print(\"rev\", rev)\n",
    "    # Leftover number\n",
    "    n = n//10\n",
    "    print(\"n\", n)\n",
    "    \n",
    "print(\"Reversed number:\",rev)"
   ]
  },
  {
   "cell_type": "code",
   "execution_count": null,
   "metadata": {},
   "outputs": [],
   "source": [
    "# Loop until n is not equal to 0\n",
    "while n!=0:\n",
    "    # Calculate the modulo\n",
    "    r = n%10\n",
    "    print(\"r\",r)\n",
    "    # New Reverse number\n",
    "    rev = rev * 10 + r\n",
    "    print(\"rev\", rev)\n",
    "    # Leftover number\n",
    "    n = n//10\n",
    "    print(\"n\", n)\n",
    "    \n",
    "print(\"Reversed number:\",rev)"
   ]
  },
  {
   "cell_type": "markdown",
   "metadata": {},
   "source": [
    "This other one does the following:\n",
    "\n",
    "Finding the factorial of a given number using while loop"
   ]
  },
  {
   "cell_type": "code",
   "execution_count": null,
   "metadata": {},
   "outputs": [],
   "source": [
    "# Factorial code\n",
    "\n",
    "n = int(input(\"Enter the number: \"))\n",
    "f =n\n",
    "r = 1\n",
    "# Loop until F is not equal to 0\n",
    "while f != 0 :\n",
    "    # Multiply each digit\n",
    "    r *= f \n",
    "    print(\"r\", r)\n",
    "    #Substract 1 from the number\n",
    "    f -= 1\n",
    "    print(\"f\", f)\n",
    "print(\"Factorial of\",n,\"is:\",r)"
   ]
  },
  {
   "cell_type": "markdown",
   "metadata": {},
   "source": [
    "Write a program to find the number if times the character \"n\" is in the string and the position number of each \"n\".\n",
    "For example in the following text \"Ninguno sabe nadar\".\n",
    "There are  4 n(s) and they are in the following positions  [0, 2, 5, 13]"
   ]
  },
  {
   "cell_type": "code",
   "execution_count": null,
   "metadata": {},
   "outputs": [],
   "source": [
    "# Find the number if time \"n\" in in the string\n",
    "texto = \"Pinpon es un muñeco muy guapo y de cartón se lava la carita con agua y con jabón\"\n",
    "#Create a list to add the index of the positions were 'n' appears\n",
    "index_n = list()\n",
    "#Create a variable to use it as the index\n",
    "count = 0\n",
    "#Create a loop to read all the characters in 'texto' and if the character is an 'n', it adds the index to the list\n",
    "for i in texto:\n",
    "    if i.lower() == 'n':\n",
    "        index_n.append(count)\n",
    "    count += 1\n",
    "#Show in the output how many 'n' are in 'texto' and their index\n",
    "print(f\"There are {len(index_n)} n's in the text and their index are {index_n}\")"
   ]
  },
  {
   "cell_type": "markdown",
   "metadata": {},
   "source": [
    "Write a code to reverse your full name, first names, last names.\n",
    "For example: If your name is \"Yaxkukul del Rocio Lopez-Portillo Arrigunaga\"\n",
    "The result should be: \"Arrigunaga Lopez-Portillo Rocio del Yaxkukul\""
   ]
  },
  {
   "cell_type": "code",
   "execution_count": 39,
   "metadata": {},
   "outputs": [
    {
     "name": "stdout",
     "output_type": "stream",
     "text": [
      "['Yaxkukul', 'del', 'Rocio', 'Lopez-Portillo', 'Arrigunaga']\n",
      "Yaxkukul\n",
      "del\n",
      "Rocio\n",
      "Lopez-Portillo\n",
      "Arrigunaga\n",
      "Yaxkukul del Rocio Lopez-Portillo Arrigunaga\n"
     ]
    }
   ],
   "source": [
    "# Write code to reverse your name\n",
    "nombre = \"Yaxkukul del Rocio Lopez-Portillo Arrigunaga\"\n",
    "#create a varible to modify the name\n",
    "name = nombre\n",
    "#create a loop to separate the names and to add them to a list\n",
    "names = list()\n",
    "for i in range(nombre.count(' ')):\n",
    "    space = name.index(' ')\n",
    "    names.append(name[0:space])\n",
    "    name = name[space+1:]\n",
    "#since the last name is not in the list, we add it manually\n",
    "names.append(name)\n",
    "#Print the list to check if it is correct\n",
    "print(names)\n",
    "#Create a loop to rearrange the list values\n",
    "for i in range(len(names)-1):\n",
    "    name = names.pop(0)\n",
    "    print(name)\n",
    "    names.append(name)\n",
    "#print the list 'names' as a string\n",
    "print(' '.join(names))"
   ]
  },
  {
   "cell_type": "markdown",
   "metadata": {},
   "source": [
    "Write a code to print all the names and grades of the students that passed. \n",
    "The passing grade will be 7.\n",
    "You will get a dictionary like this:\n",
    "dict_alumnos = {\"Pedro\":10,\"Juan\":9,\"José\":8,\"Beto\":5,\"Maria\":7,\"Julia\":6}\n",
    "The result should be: {'Pedro': 10, 'Juan': 9, 'José': 8, 'Maria': 7}"
   ]
  },
  {
   "cell_type": "code",
   "execution_count": 6,
   "metadata": {},
   "outputs": [
    {
     "name": "stdout",
     "output_type": "stream",
     "text": [
      "{'Pedro': 10, 'Juan': 9, 'José': 8, 'Maria': 7}\n"
     ]
    }
   ],
   "source": [
    "#Code to print passing students\n",
    "dict_alumnos = {\"Pedro\":10,\"Juan\":9,\"José\":8,\"Beto\":5,\"Maria\":7,\"Julia\":6}\n",
    "\n",
    "# Creation of new dictionary with only passed students\n",
    "passed_students = {}\n",
    "# Loop for to iterate the keys in 'dict_alumnos' dictionary\n",
    "for key in dict_alumnos.keys():\n",
    "    # If the score of the student is equal or greater than 7, then\n",
    "    if dict_alumnos[key] >= 7:\n",
    "        # Append the same 'key:value' to the new dictionary\n",
    "        passed_students[key] = dict_alumnos[key]\n",
    "\n",
    "# Print new dictionary\n",
    "print(passed_students)\n",
    "        \n",
    "    "
   ]
  }
 ],
 "metadata": {
  "kernelspec": {
   "display_name": "Python 3.10.2 64-bit",
   "language": "python",
   "name": "python3"
  },
  "language_info": {
   "codemirror_mode": {
    "name": "ipython",
    "version": 3
   },
   "file_extension": ".py",
   "mimetype": "text/x-python",
   "name": "python",
   "nbconvert_exporter": "python",
   "pygments_lexer": "ipython3",
   "version": "3.10.5"
  },
  "orig_nbformat": 4,
  "vscode": {
   "interpreter": {
    "hash": "1d560eb1adf81cf6d0d2c29d887570bf5a31c4d06a1010589a8ded32ced535b4"
   }
  }
 },
 "nbformat": 4,
 "nbformat_minor": 2
}
