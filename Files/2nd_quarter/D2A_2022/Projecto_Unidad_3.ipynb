{
  "cells": [
    {
      "cell_type": "markdown",
      "metadata": {
        "id": "-kDli25HbS1v"
      },
      "source": [
        "## Unit 3 Project.\n",
        "Arguments and recusivity.\n",
        "Using what you have learnt from making functions, paramaters, *args, kwargs or recursivity. \n",
        "Do the following exercises.\n",
        "\n"
      ]
    },
    {
      "cell_type": "markdown",
      "metadata": {
        "id": "dpb6EkJzbiKd"
      },
      "source": [
        "Exercise # 1\n",
        "\n",
        "Create a function that will sum two numbers and return their value and then print it\n"
      ]
    },
    {
      "cell_type": "code",
      "execution_count": 9,
      "metadata": {
        "id": "kqC3yqCFb1dm"
      },
      "outputs": [
        {
          "name": "stdout",
          "output_type": "stream",
          "text": [
            "The result of the addition of the 2 numbers is: 23\n"
          ]
        }
      ],
      "source": [
        "# Create function to sum 2 numbers and return their value\n",
        "def sum(val1,val2):\n",
        "    return val1+val2\n",
        "#call function \n",
        "result = sum(8,15)\n",
        "# Print value \n",
        "print(f\"The result of the addition of the 2 numbers is: {result}\")"
      ]
    },
    {
      "cell_type": "markdown",
      "metadata": {
        "id": "8TFH8BAscBlN"
      },
      "source": [
        "Exercise # 2\n",
        "\n",
        "Create a nested function to build the following:\n",
        "Using the following lists\n",
        "fruits = (\"apple\", \"cherry\", \"strawberry\")\n",
        "adjectives = (\"big\",\"red\", \"juicy\")\n",
        "\n",
        "Build a function or functions to print:\n",
        "- big apple, red apple, juicy apple,\n",
        "- big cherry, red cherry, juicy cherry,\n",
        "- big strawberry, red strawberry, juicy strawberry,\n",
        "\n"
      ]
    },
    {
      "cell_type": "code",
      "execution_count": 10,
      "metadata": {
        "colab": {
          "base_uri": "https://localhost:8080/"
        },
        "id": "46-IRHkedoe1",
        "outputId": "3e35535d-704f-4463-db83-519b80b869aa"
      },
      "outputs": [
        {
          "name": "stdout",
          "output_type": "stream",
          "text": [
            "big apple\n",
            "red apple\n",
            "juicy apple\n",
            "big cherry\n",
            "red cherry\n",
            "juicy cherry\n",
            "big strawberry\n",
            "red strawberry\n",
            "juicy strawberry\n"
          ]
        }
      ],
      "source": [
        "# Create your function here\n",
        "def nested_list(fruits,adjectives):\n",
        "    for i in fruits:\n",
        "        for x in adjectives: print(x,i)\n",
        "\n",
        "fruits = (\"apple\",\"cherry\",\"strawberry\")\n",
        "adjetivo = (\"big\",\"red\",\"juicy\")\n",
        "nested_list(fruits,adjetivo)"
      ]
    },
    {
      "cell_type": "markdown",
      "metadata": {
        "id": "kG9SMDEudsK2"
      },
      "source": [
        "Exercise # 3\n",
        "\n",
        "Create a function to multiply a variable list of numbers. \n",
        "\n",
        "For example: a list of 5 number or a list of 10 numbers.\n"
      ]
    },
    {
      "cell_type": "code",
      "execution_count": 11,
      "metadata": {
        "id": "cIbngmC7e5FY"
      },
      "outputs": [
        {
          "name": "stdout",
          "output_type": "stream",
          "text": [
            "The initial list is [1, 3, 5, 7, 9] and it'll be multiplied by 2\n",
            "The resultant list is [2, 6, 10, 14, 18]\n"
          ]
        }
      ],
      "source": [
        "#Create  function to multiply any lenght list of numbers and print their results\n",
        "def multi_list(list,multiplier):\n",
        "    final_list = []\n",
        "    for i in list:\n",
        "        x = i*multiplier\n",
        "        final_list.append(x)\n",
        "    return final_list\n",
        "\n",
        "variable_list = [1,3,5,7,9]\n",
        "multiplier = 2\n",
        "print(f\"The initial list is {variable_list} and it'll be multiplied by {multiplier}\")\n",
        "print(f\"The resultant list is {multi_list(variable_list,multiplier)}\")"
      ]
    },
    {
      "cell_type": "markdown",
      "metadata": {
        "id": "UK7oNpa4fEHO"
      },
      "source": [
        "Exercise # 4\n",
        "\n",
        "Create a function to print the data type for each lenght arguments being passed.\n",
        "For example: parameter list (1, \"banana\", [\"cherry\",\"mango\"],True)"
      ]
    },
    {
      "cell_type": "code",
      "execution_count": 12,
      "metadata": {
        "colab": {
          "base_uri": "https://localhost:8080/"
        },
        "id": "TkyFMVvRhWfw",
        "outputId": "06540dd1-2561-469a-f398-34034121bc36"
      },
      "outputs": [
        {
          "name": "stdout",
          "output_type": "stream",
          "text": [
            "<class 'int'>\n",
            "<class 'str'>\n",
            "<class 'list'>\n",
            "<class 'bool'>\n"
          ]
        }
      ],
      "source": [
        "# Write your function\n",
        "def know_type(list):\n",
        "    for i in list:\n",
        "        print(type(i))\n",
        "\n",
        "know_type([1,\"banana\",[\"cherry\",\"mango\"],True])"
      ]
    },
    {
      "cell_type": "markdown",
      "metadata": {
        "id": "6UZPPscaiaX_"
      },
      "source": [
        "Exercise # 5\n",
        "\n",
        "Create a function where there are 2 names parameters. The first should be a greeting and the second a name.\n",
        "\n",
        "if the paramaters are not being passed the default values should be parameter 1 default to \"Hello\" parameter 2 should default to \"Bob\".\n"
      ]
    },
    {
      "cell_type": "code",
      "execution_count": 13,
      "metadata": {
        "id": "ZY7fKafbjJd-"
      },
      "outputs": [
        {
          "data": {
            "text/plain": [
              "'Hola, buenas tardes Bob'"
            ]
          },
          "execution_count": 13,
          "metadata": {},
          "output_type": "execute_result"
        }
      ],
      "source": [
        "# Create a function here\n",
        "def function(greeting=\"Hello\",name=\"Bob\"):\n",
        "    return greeting+' '+name\n",
        "\n",
        "function(\"Hola, buenas tardes\")\n"
      ]
    },
    {
      "cell_type": "markdown",
      "metadata": {
        "id": "pHl_BYCrkLsf"
      },
      "source": [
        "Excersise # 6\n",
        "\n",
        "Create a function where you use 2 paramaters, a positional argument and a named parameter set it to True as a defaut value.\n",
        "\n",
        "Pass 2 numbers in each parameter wich you will add to a positional argument number list only if the named paramater is True.\n",
        "\n",
        "The function performs addition operation if option is True. Since the default value is True, the function returns the sum of the arguments unless option parameter is declared as False.\n",
        "\n",
        "Test your function with the following data:\n",
        "a = 10\n",
        "b = 20\n",
        "lst(10,20,30,40,50)\n",
        "Do not pass the third paramater\n",
        "\n",
        "Same as before and now pass option = False (option will be the third parameter)\n",
        "\n"
      ]
    },
    {
      "cell_type": "code",
      "execution_count": 14,
      "metadata": {
        "id": "lASPSc2ll0KQ"
      },
      "outputs": [
        {
          "name": "stdout",
          "output_type": "stream",
          "text": [
            "The sum of the arguments passed is 150\n"
          ]
        }
      ],
      "source": [
        "# Write your function here\n",
        "def sum(*nums,execute=True):\n",
        "    if execute:\n",
        "        result = 0\n",
        "        for i in nums:\n",
        "            result = result + i\n",
        "    else:\n",
        "        result = nums\n",
        "    return result\n",
        "\n",
        "a = 10\n",
        "b = 20\n",
        "\n",
        "result = sum(10,20,30,40,50)\n",
        "print(f\"The sum of the arguments passed is {result}\")"
      ]
    },
    {
      "cell_type": "markdown",
      "metadata": {
        "id": "UzPuHq80l21M"
      },
      "source": [
        "Exercise # 7\n",
        "\n",
        "Creae a function to receive two paramaters, a named parameter, a positional argument and a keywaord argument.\n",
        "Call the function and print the values for each one of them\n",
        "For example:\n",
        "\n",
        "print(paramater1), print(parameter2), print(named argument),print(positional argument), print(keyword argument)"
      ]
    },
    {
      "cell_type": "code",
      "execution_count": 15,
      "metadata": {
        "id": "H44d_9wAm5Af"
      },
      "outputs": [
        {
          "name": "stdout",
          "output_type": "stream",
          "text": [
            "1. The first parameter(s): ('Hello Sam',)\n",
            "2. The named parameter is: Parametro nombrado\n",
            "3. The positional parameter that is next to the named parameter is: parametro posisionado\n",
            "4. The keyboard parameter is: {'keyboard_parameter': 'Parameter entered by keyboard'}\n"
          ]
        }
      ],
      "source": [
        "# Create function\n",
        "def function_parameters(*parameter,named_parameter='None',positional_parameter,**keyboard_parameter):\n",
        "    print('1. The first parameter(s): '+str(parameter))\n",
        "    print('2. The named parameter is: '+named_parameter)\n",
        "    print('3. The positional parameter that is next to the named parameter is: '+positional_parameter)\n",
        "    print('4. The keyboard parameter is: '+str(keyboard_parameter))\n",
        "\n",
        "function_parameters('Hello Sam',named_parameter='Parametro nombrado',positional_parameter='parametro posisionado',keyboard_parameter=input())"
      ]
    },
    {
      "cell_type": "markdown",
      "metadata": {
        "id": "sg-kCi0sm8bu"
      },
      "source": [
        "Excersise # 8\n",
        "\n",
        "Using recursion. Create a game that will ask the user 4 times to guess a number. if the user gueses the number print(\"You have won!\") if the user did not guess print(\"You have lost!\")\n",
        "Remember usibg recursion to do this.\n"
      ]
    },
    {
      "cell_type": "code",
      "execution_count": 16,
      "metadata": {
        "id": "pvjBDxuDoIru"
      },
      "outputs": [
        {
          "name": "stdout",
          "output_type": "stream",
          "text": [
            "4 is not the number, try again :(\n",
            "You have left 3 chance(s)...\n",
            "6 is not the number, try again :(\n",
            "You have left 2 chance(s)...\n",
            "5 is not the number, try again :(\n",
            "You have left 1 chance(s)...\n",
            "2 is not the number, you have lost!\n"
          ]
        }
      ],
      "source": [
        "# Write a recursive funcion here\n",
        "import random\n",
        "num2guess = random.randint(1,10)\n",
        "user_number = int(input('Type an integer between 1 and 10: '))\n",
        "attempt = 1\n",
        "def guess_number(num2guess,user_number,attempt):\n",
        "    if num2guess == user_number:\n",
        "        print('You have won!')\n",
        "    else:\n",
        "        if attempt < 4:\n",
        "            print(f'{user_number} is not the number, try again :(')\n",
        "            print(f'You have left {4-attempt} chance(s)...')\n",
        "            user_number = int(input('Type an integer between 1 and 10: '))\n",
        "            guess_number(num2guess,user_number,attempt+1)\n",
        "        else:\n",
        "            print(f'{user_number} is not the number, you have lost!')\n",
        "            return\n",
        "\n",
        "guess_number(num2guess,user_number,attempt)"
      ]
    },
    {
      "cell_type": "markdown",
      "metadata": {
        "id": "zpKQGb1rjU39"
      },
      "source": []
    }
  ],
  "metadata": {
    "colab": {
      "collapsed_sections": [],
      "name": "Projecto Unidad 3.ipynb",
      "provenance": []
    },
    "kernelspec": {
      "display_name": "Python 3.10.5 64-bit",
      "language": "python",
      "name": "python3"
    },
    "language_info": {
      "codemirror_mode": {
        "name": "ipython",
        "version": 3
      },
      "file_extension": ".py",
      "mimetype": "text/x-python",
      "name": "python",
      "nbconvert_exporter": "python",
      "pygments_lexer": "ipython3",
      "version": "3.10.5"
    },
    "vscode": {
      "interpreter": {
        "hash": "98b7f83ea1f6816592be813d0a9257f9f3e2d15bf5c320e3b781c72faa584dce"
      }
    }
  },
  "nbformat": 4,
  "nbformat_minor": 0
}
