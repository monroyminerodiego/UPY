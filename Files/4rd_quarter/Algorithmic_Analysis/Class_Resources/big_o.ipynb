{
 "cells": [
  {
   "cell_type": "code",
   "execution_count": 29,
   "metadata": {},
   "outputs": [],
   "source": [
    "array= [4, 2, 7, 1, 9,6]\n",
    "arr= [1, 2, 4, 3, 5, 7, 6,8]"
   ]
  },
  {
   "cell_type": "markdown",
   "metadata": {},
   "source": [
    "**O(1): Constant Time**\n",
    "\n",
    "\n",
    "If you know the index of an element in an array, accessing it takes constant time because you can directly jump to that position."
   ]
  },
  {
   "cell_type": "code",
   "execution_count": 12,
   "metadata": {},
   "outputs": [
    {
     "name": "stdout",
     "output_type": "stream",
     "text": [
      "6\n"
     ]
    }
   ],
   "source": [
    "element = array[5]  # This operation takes constant time, regardless of the array size.\n",
    "print (element)"
   ]
  },
  {
   "cell_type": "markdown",
   "metadata": {},
   "source": [
    "**O(log n): Logarithmic Time**\n",
    "\n",
    "When searching in a sorted list, binary search repeatedly divides the search interval in half. It's more efficient than linear search for large datasets."
   ]
  },
  {
   "cell_type": "code",
   "execution_count": 36,
   "metadata": {},
   "outputs": [
    {
     "data": {
      "text/plain": [
       "3"
      ]
     },
     "execution_count": 36,
     "metadata": {},
     "output_type": "execute_result"
    }
   ],
   "source": [
    "# Explanation: Binary search algorithm\n",
    "def binary_search(arr, target):\n",
    "    low, high = 0, len(arr) - 1\n",
    "    while low <= high:\n",
    "        mid = (low + high) // 2\n",
    "        if arr[mid] == target:\n",
    "            return mid\n",
    "        elif arr[mid] < target:\n",
    "            low = mid + 1\n",
    "        else:\n",
    "            high = mid - 1\n",
    "    return -1\n",
    "\n",
    "binary_search(arr,3)\n",
    "\n",
    "# In each step, binary search eliminates half of the remaining elements.\n",
    "# This results in a time complexity of O(log n) for a sorted array."
   ]
  },
  {
   "cell_type": "markdown",
   "metadata": {},
   "source": [
    "**O(n): Linear Time**\n",
    "\n",
    "In this case, you have to traverse the entire list to find the maximum element."
   ]
  },
  {
   "cell_type": "code",
   "execution_count": 14,
   "metadata": {},
   "outputs": [
    {
     "name": "stdout",
     "output_type": "stream",
     "text": [
      "9\n"
     ]
    }
   ],
   "source": [
    "# Explanation: Finding the maximum element in an unsorted list\n",
    "max_element = max(array)  # In the worst case, each element needs to be checked once.\n",
    "# This results in a time complexity of O(n).\n",
    "print(max_element)"
   ]
  },
  {
   "cell_type": "markdown",
   "metadata": {},
   "source": [
    "**O(n log n): Linearithmic Time**\n",
    "\n",
    "Merge sort is a sorting algorithm that divides the array into halves, sorts each half, and then merges them. It has a time complexity of O(n log n)."
   ]
  },
  {
   "cell_type": "code",
   "execution_count": 39,
   "metadata": {},
   "outputs": [
    {
     "ename": "TypeError",
     "evalue": "object of type 'int' has no len()",
     "output_type": "error",
     "traceback": [
      "\u001b[1;31m---------------------------------------------------------------------------\u001b[0m",
      "\u001b[1;31mTypeError\u001b[0m                                 Traceback (most recent call last)",
      "Cell \u001b[1;32mIn [39], line 28\u001b[0m\n\u001b[0;32m     26\u001b[0m     \u001b[38;5;28;01mreturn\u001b[39;00m result\n\u001b[0;32m     27\u001b[0m merge_sort(arr)\n\u001b[1;32m---> 28\u001b[0m \u001b[43mmerge\u001b[49m\u001b[43m(\u001b[49m\u001b[38;5;241;43m3\u001b[39;49m\u001b[43m,\u001b[49m\u001b[38;5;241;43m5\u001b[39;49m\u001b[43m)\u001b[49m\n\u001b[0;32m     29\u001b[0m \u001b[38;5;28mprint\u001b[39m(arr)\n",
      "Cell \u001b[1;32mIn [39], line 15\u001b[0m, in \u001b[0;36mmerge\u001b[1;34m(left, right)\u001b[0m\n\u001b[0;32m     12\u001b[0m result \u001b[38;5;241m=\u001b[39m []\n\u001b[0;32m     13\u001b[0m i \u001b[38;5;241m=\u001b[39m j \u001b[38;5;241m=\u001b[39m \u001b[38;5;241m0\u001b[39m\n\u001b[1;32m---> 15\u001b[0m \u001b[38;5;28;01mwhile\u001b[39;00m i \u001b[38;5;241m<\u001b[39m \u001b[38;5;28;43mlen\u001b[39;49m\u001b[43m(\u001b[49m\u001b[43mleft\u001b[49m\u001b[43m)\u001b[49m \u001b[38;5;129;01mand\u001b[39;00m j \u001b[38;5;241m<\u001b[39m \u001b[38;5;28mlen\u001b[39m(right):\n\u001b[0;32m     16\u001b[0m     \u001b[38;5;28;01mif\u001b[39;00m left[i] \u001b[38;5;241m<\u001b[39m right[j]:\n\u001b[0;32m     17\u001b[0m         result\u001b[38;5;241m.\u001b[39mappend(left[i])\n",
      "\u001b[1;31mTypeError\u001b[0m: object of type 'int' has no len()"
     ]
    }
   ],
   "source": [
    "def merge_sort(arr):\n",
    "    if len(arr) <= 1:\n",
    "        return arr\n",
    "    \n",
    "    mid = len(arr) // 2\n",
    "    left_half = merge_sort(arr[:mid])\n",
    "    right_half = merge_sort(arr[mid:])\n",
    "    \n",
    "    return merge(left_half, right_half)\n",
    "\n",
    "def merge(left_half, right_half):\n",
    "    result = []\n",
    "    i = j = 0\n",
    "    \n",
    "    while i < len(left) and j < len(right):\n",
    "        if left[i] < right[j]:\n",
    "            result.append(left[i])\n",
    "            i += 1\n",
    "        else:\n",
    "            result.append(right[j])\n",
    "            j += 1\n",
    "    \n",
    "    result.extend(left[i:])\n",
    "    result.extend(right[j:])\n",
    "    \n",
    "    return result\n",
    "merge_sort(arr)\n",
    "print(arr)\n",
    "\n",
    "# The merge sort algorithm divides the array into halves,\n",
    "# sorts each half, and then merges them. This results in a time complexity of O(n log n)."
   ]
  },
  {
   "cell_type": "markdown",
   "metadata": {},
   "source": [
    "**O(n^2): Quadratic Time**\n",
    "\n",
    "Bubble sort is a simple sorting algorithm that repeatedly steps through the list, compares adjacent elements, and swaps them if they are in the wrong order."
   ]
  },
  {
   "cell_type": "code",
   "execution_count": 22,
   "metadata": {},
   "outputs": [
    {
     "name": "stdout",
     "output_type": "stream",
     "text": [
      "[1, 2, 3, 4, 5, 6, 7]\n"
     ]
    }
   ],
   "source": [
    "# Explanation: Bubble sort algorithm\n",
    "def bubble_sort(arr):\n",
    "    n = len(arr)\n",
    "    for i in range(n):\n",
    "        for j in range(0, n-i-1):\n",
    "            if arr[j] > arr[j+1]:\n",
    "                arr[j], arr[j+1] = arr[j+1], arr[j]\n",
    "bubble_sort(arr)\n",
    "print(arr)\n",
    "# In the worst case, bubble sort needs to compare and swap elements for each pair.\n",
    "# This results in a time complexity of O(n^2)."
   ]
  }
 ],
 "metadata": {
  "kernelspec": {
   "display_name": "Python 3",
   "language": "python",
   "name": "python3"
  },
  "language_info": {
   "codemirror_mode": {
    "name": "ipython",
    "version": 3
   },
   "file_extension": ".py",
   "mimetype": "text/x-python",
   "name": "python",
   "nbconvert_exporter": "python",
   "pygments_lexer": "ipython3",
   "version": "3.10.11"
  }
 },
 "nbformat": 4,
 "nbformat_minor": 2
}
