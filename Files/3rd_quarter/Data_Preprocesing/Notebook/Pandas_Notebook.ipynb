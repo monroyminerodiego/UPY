{
 "cells": [
  {
   "cell_type": "markdown",
   "metadata": {},
   "source": [
    "# Pandas\n",
    "\n",
    "## Summary\n",
    "The purpose of this notebook is to provide some practical examples of functions that come with pandas."
   ]
  },
  {
   "cell_type": "markdown",
   "metadata": {},
   "source": [
    "### Importing the libraries\n",
    "The first thing to do is to be sure to have installed the library, so in console we are going to type the following:"
   ]
  },
  {
   "cell_type": "code",
   "execution_count": null,
   "metadata": {
    "vscode": {
     "languageId": "powershell"
    }
   },
   "outputs": [],
   "source": [
    "pip install pandas"
   ]
  },
  {
   "cell_type": "markdown",
   "metadata": {},
   "source": [
    "If everything worked fine, pandas should be installed as a library you can access with: "
   ]
  },
  {
   "cell_type": "code",
   "execution_count": null,
   "metadata": {},
   "outputs": [],
   "source": [
    "import pandas as pd"
   ]
  },
  {
   "cell_type": "markdown",
   "metadata": {},
   "source": [
    "> [!IMPORTANT]\n",
    ">\n",
    "> We use the reserved word **'as'** to put a **'nickname'** to the library.\n",
    "\n",
    "--- \n",
    "\n",
    "### Reading a Data Frame\n",
    "First we need to declare a variable, which will have the result dataframe of the file 'bank-full.csv', that will have a separator of ';'.\n",
    "With method **'.head(x)'** you get the headers (or features), where x will be the number of rows you want to display with the headers of the data frame "
   ]
  },
  {
   "cell_type": "code",
   "execution_count": null,
   "metadata": {},
   "outputs": [],
   "source": [
    "bank_df = pd.read_csv('../DataBases/bank-full.csv',sep=';')\n",
    "print(bank_df.head(5))\n",
    "print(bank_df.describe())"
   ]
  },
  {
   "cell_type": "code",
   "execution_count": null,
   "metadata": {},
   "outputs": [],
   "source": [
    "# Abrimos el data frame\n",
    "cc_approval_2_df = pd.read_csv(\"../DataBases/cc_approvals_2.data\")\n",
    "\n",
    "#Se imprime el dataframe, se describe, se imprime la forma\n",
    "print(f\"\\n\\n{'*'*20} Impresion de df {'*'*20}\\n\\n\")\n",
    "print(cc_approval_2_df)\n",
    "\n",
    "print(f\"\\n\\n{'*'*20} Descripcion {'*'*20}\\n\\n\")\n",
    "print(cc_approval_2_df.describe())\n",
    "\n",
    "print(f\"\\n\\n{'*'*20} Forma {'*'*20}\\n\\n\")\n",
    "print(cc_approval_2_df.shape)\n",
    "\n",
    "print(f\"\\n\\n{'*'*20} Headers {'*'*20}\\n\\n\")\n",
    "print(cc_approval_2_df.head(1))\n",
    "\n",
    "# Backup statement \n",
    "testing_df = cc_approval_2_df\n",
    "\n",
    "print(f\"\\n\\n{'*'*20} Changing header names {'*'*20}\\n\\n\")\n",
    "testing_df.columns = [f'x{i}' for i in range(1,17)]\n",
    "    \n",
    "print(testing_df.head(0))"
   ]
  }
 ],
 "metadata": {
  "kernelspec": {
   "display_name": "Python 3",
   "language": "python",
   "name": "python3"
  },
  "language_info": {
   "codemirror_mode": {
    "name": "ipython",
    "version": 3
   },
   "file_extension": ".py",
   "mimetype": "text/x-python",
   "name": "python",
   "nbconvert_exporter": "python",
   "pygments_lexer": "ipython3",
   "version": "3.10.5"
  },
  "orig_nbformat": 4
 },
 "nbformat": 4,
 "nbformat_minor": 2
}
