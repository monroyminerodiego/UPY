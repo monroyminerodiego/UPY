{
 "cells": [
  {
   "cell_type": "markdown",
   "metadata": {},
   "source": [
    "# Summary of Unit 1\n",
    "\n",
    "## Instructions given by the teacher\n",
    "The task consists of creating a portfolio of evidence to perform each of the topics listed in the Syllabus, in Unit 1.\n",
    "For this, the 3 tables contained in the INEGI dataset will be used.\n",
    "\n",
    "## Development\n",
    "\n",
    "***\n",
    "\n",
    "### Data Import\n",
    "\n",
    "<p>\n",
    "A data table is a way to organize information in a grid format. It has rows and columns, and each cell in the table contains a single piece of data.\n",
    "Data tables can be used to store and organize any type of information: categorical, numeric, boolean, dates, and strings.\n",
    "- Categorical data is data that can be classified into different categories\n",
    "- Numeric data is data that can be represented by numbers.\n",
    "- Boolean data is data that can take on two possible values.\n",
    "- Date data is data that represents a specific point in time\n",
    "- String data is data that is represented by a sequence of characters.\n",
    "\n",
    "Data also can be stored in files with different format. Some exmaples are:\n",
    "- CSV: Plain text file format, stores data in rows and columns, separated by commas.\n",
    "- JSON: Lightweight data-interchange format, easy to read and write, good for storing and exchanging complex data structures.\n",
    "- XML: Markup language, human-readable and machine-processable, good for storing and exchanging hierarchical data structures.\n",
    "- XLS: Binary file format used by Microsoft Excel to store spreadsheet data.\n",
    "\n",
    "Local repositories are stored on your computer and allow you to work on code offline. Remote repositories are stored on a server and allow you to collaborate with others. URLs identify remote repositories. APIs allow software applications to interact with remote repositories.\n",
    "\n",
    "Secure data transfer protocols encrypt data before sending it over a network. Data import procedures move data from one system to another, with steps to prepare, transfer, and validate the data.\n",
    "</p> \n",
    "\n",
    "***\n",
    "\n",
    "### Data Exploration\n",
    "\n",
    "<p>\n",
    "Data structures are ways of organizing data in a computer, with linear structures for sequential access and non-linear structures for efficient searching.\n",
    "\n",
    "Raw data is unprocessed and unedited data in its original form.\n",
    "Clean data is processed and manipulated data to remove errors, inconsistencies, and other imperfections.\n",
    "Clean data is essential for accurate and reliable analysis.\n",
    "\n",
    "Some statistical techniques of data exploration are:\n",
    "- Histograms - Visualize the distribution of a numerical variable by plotting the number of cases in each value bin.\n",
    "- Dispersion analysis - Quantify the variability of a numerical variable using measures such as standard deviation, range, and interquartile range.\n",
    "- Univariate analysis - Analyze a single variable at a time to understand its distribution, variability, and outliers.\n",
    "\n",
    "Outliers are unusual data points, missing data is data that is not present, and duplicate data is data that appears multiple times. How to deal with them? Remove outliers, impute missing data, and remove duplicate data.\n",
    "\n",
    "Data exploration procedure is to get familiar with data, identify outliers and missing data, explore relationships between variables, identify patterns and trends, and formulate hypotheses.\n",
    "Variable analysis examinates individual variables to understand distributions, variability, and relationships with other variables.\n",
    "\n",
    "\n",
    "Data structure characterization is the process of identifying and describing the key features of a data structure. This includes understanding:\n",
    "- The type of data that the structure can store (e.g., integers, strings, objects).\n",
    "- The organization of the data (e.g., linear, linked, hierarchical).\n",
    "- The operations that can be performed on the data (e.g., insertion, deletion, search).\n",
    "- The time and space complexity of the operations.  \n",
    "\n",
    "Data structure characterization is important because it helps us to choose the right data structure for a particular task. For example, if we need to store a large number of items in a sorted order, we might choose a binary search tree. If we need to store a dynamic collection of items, we might choose a linked list.\n",
    "</p>\n",
    "\n",
    "***\n",
    "\n",
    "### Data Cleaning \n",
    "\n",
    "<p>\n",
    "\n",
    "**Common errors during data handling**\n",
    "- Column headings are values instead of variable names: This type of error can make it difficult to understand what data is stored in the table and can lead to confusion and mistakes. For example, a column heading might be \"Sales\" instead of \"Total Sales\".  \n",
    "- Multiple variables stored in a column: This type of error can also make it difficult to understand and use the data. For example, a column might contain both the first and last names of customers. This would make it difficult to calculate things like the total number of customers or the average number of customers per day.  \n",
    "- Variables stored in both rows and columns: This type of error can be confusing and redundant. For example, a table might have a row for each customer and a column for each product that the customer has purchased. This information could be more efficiently stored in a single row for each customer, with each product listed on a separate line.  \n",
    "- Multiple types of units stored in the same table: This type of error can lead to confusion and mistakes in calculations. For example, a table might have measurements in both meters and centimeters. This would make it difficult to calculate things like the total distance traveled or the average speed.  \n",
    "- One type of unit in multiple tables: This type of error can be inconsistent and make it difficult to compare data across tables. For example, one table might have measurements in meters and another table might have measurements in kilometers. This would make it difficult to compare the total distances traveled in each table.\n",
    "\n",
    "Some types of data cleansing are:\n",
    "- Conversions: Converting data from one format to another, such as changing dates from one format to another or converting currencies.\n",
    "- Merges: Combining two or more data tables into a single table.\n",
    "- Column renaming: Changing the names of columns in a data table to make them more descriptive or consistent.\n",
    "- Column removal: Deleting columns from a data table that are not needed or that contain irrelevant data.\n",
    "- Joins: Combining two or more data tables based on a common field.\n",
    "- Filtering: Subsetting a data table to include only the rows that meet certain criteria.\n",
    "- Sorting: Arranging the rows of a data table in a specific order, such as alphabetical order or numerical order.\n",
    "- Discarding duplicates: Removing duplicate rows from a data table.\n",
    "- Outliers handling: Identifying and handling anomalous data points, known as outliers.\n",
    "\n",
    "The data table cleaning procedure is the process of identifying and correcting errors in a data table. This process can be broken down into the following steps:\n",
    "1. Identify the types of errors in the data table. This can be done by visually inspecting the data table or by using automated data quality tools.\n",
    "2. Choose the appropriate data cleansing techniques for each type of error. There are a variety of data cleansing techniques available, such as conversions, merges, column renaming, column removal, joins, filtering, sorting, discarding duplicates, and outliers handling.\n",
    "3. Apply the data cleansing techniques to the data table. This can be done manually or using automated data cleaning tools.\n",
    "4. Validate the cleaned data table to ensure that the errors have been corrected. This can be done by visually inspecting the cleaned data table or by using automated data quality tools.\n",
    "\n",
    "</p>\n",
    "\n",
    "***\n",
    "\n",
    "### Data Transformation\n",
    "\n",
    "<p>\n",
    "\n",
    "Data transformation is the process of converting raw data into a format that is more useful and easier to analyze. This can involve a variety of techniques, such as conversions, joins, discretization, normalization, filtering, concatenating, clipping and filling, and separating.\n",
    "- Conversions involve changing the format of data from one type to another. For example, you might convert dates from MM/DD/YYYY to YYYY-MM-DD, or convert currencies from USD to EUR.\n",
    "- Joins combine two or more data tables based on a common field. This can be useful for combining data from different sources, such as customer data and purchase data.\n",
    "- Discretization involves converting continuous data into discrete categories. For example, you might discretize age into categories such as \"child,\" \"adult,\" and \"senior.\"\n",
    "- Normalization is the process of organizing data into tables in a way that reduces redundancy and makes it easier to maintain.\n",
    "- Filtering involves selecting only a subset of data from a table based on certain criteria. For example, you might filter a table of customer data to only include customers who have made a purchase in the past 30 days.\n",
    "- Concatenating involves combining two or more strings of text into a single string. For example, you might concatenate a customer's first and last name into a single string.\n",
    "- Clipping and filling involve replacing missing values in a data set with a default value. For example, you might clip and fill missing values in a data set of customer heights with the average height.\n",
    "- Separating involves splitting a string of text into two or more strings based on a delimiter. For example, you might separate a customer's email address into a username and domain name.\n",
    "\n",
    "The specific data transformation operations that are required for a given table will depend on the specific requirements of that table. However, some common data transformation operations that are performed on tables include:\n",
    "- Converting data types: This may involve converting dates from one format to another, converting currencies, or converting categorical data to numerical data.\n",
    "- Removing duplicate rows: This is important to ensure that the data is accurate and that each row represents a unique entity.\n",
    "- Handling missing values: This can involve replacing missing values with a default value, such as the mean or median, or removing rows with missing values.\n",
    "- Joining tables: This is used to combine data from multiple tables into a single table. This is useful for analyzing data from different sources, such as customer data and product data.\n",
    "- Aggregating data: This is used to summarize data by calculating statistics such as the mean, median, and mode. This is useful for getting a high-level overview of the data.\n",
    "\n",
    "</p>\n",
    "\n",
    "## Study Case\n",
    "From the information provided by INEGI (Tables: INE_DISTRITO_2020.csv, INE_ENTIDAD_2020.csv, INE_SECCION_2020.csv), apply the knowledge acquired during the unit to manage the tables.\n",
    "\n",
    "### Data Import\n",
    "Python provides wide range of options when it comes to data management. 'Pandas' is a library made for python, that allow us to read CSV files.\n",
    "First, we need to install the library, with the following command:"
   ]
  },
  {
   "cell_type": "code",
   "execution_count": 12,
   "metadata": {
    "vscode": {
     "languageId": "bat"
    }
   },
   "outputs": [
    {
     "name": "stdout",
     "output_type": "stream",
     "text": [
      "Requirement already satisfied: pandas in c:\\users\\diego\\appdata\\local\\programs\\python\\python310\\lib\\site-packages (1.4.3)\n",
      "Requirement already satisfied: python-dateutil>=2.8.1 in c:\\users\\diego\\appdata\\local\\programs\\python\\python310\\lib\\site-packages (from pandas) (2.8.2)\n",
      "Requirement already satisfied: pytz>=2020.1 in c:\\users\\diego\\appdata\\local\\programs\\python\\python310\\lib\\site-packages (from pandas) (2022.1)\n",
      "Requirement already satisfied: numpy>=1.21.0 in c:\\users\\diego\\appdata\\local\\programs\\python\\python310\\lib\\site-packages (from pandas) (1.23.0)\n",
      "Requirement already satisfied: six>=1.5 in c:\\users\\diego\\appdata\\local\\programs\\python\\python310\\lib\\site-packages (from python-dateutil>=2.8.1->pandas) (1.16.0)\n",
      "Note: you may need to restart the kernel to use updated packages.\n"
     ]
    },
    {
     "name": "stderr",
     "output_type": "stream",
     "text": [
      "\n",
      "[notice] A new release of pip is available: 23.2.1 -> 23.3.1\n",
      "[notice] To update, run: python.exe -m pip install --upgrade pip\n"
     ]
    }
   ],
   "source": [
    "pip install pandas"
   ]
  },
  {
   "cell_type": "markdown",
   "metadata": {},
   "source": [
    "Once the library is installed, with the following lines we can maka a Data Import from the CSV files to a pandas DataFrame."
   ]
  },
  {
   "cell_type": "code",
   "execution_count": 13,
   "metadata": {},
   "outputs": [],
   "source": [
    "import pandas as pd\n",
    "dstrito_csv = pd.read_csv('../DataBases/INE_DISTRITO_2020.CSV',encoding='latin-1')\n",
    "entidad_csv = pd.read_csv('../DataBases/INE_ENTIDAD_2020.CSV' ,encoding='latin-1')\n",
    "seccion_csv = pd.read_csv('../DataBases/INE_SECCION_2020.csv' ,encoding='latin-1')"
   ]
  },
  {
   "cell_type": "markdown",
   "metadata": {},
   "source": [
    "### Data Exploration\n",
    "Once we have our 3 CSV files imported in Python as a pandas DataFrame, we can use methods to summarize our data, such as: .head(), .info() or .describe()"
   ]
  },
  {
   "cell_type": "code",
   "execution_count": 14,
   "metadata": {},
   "outputs": [
    {
     "name": "stdout",
     "output_type": "stream",
     "text": [
      "\n",
      "   ENT              NOM_ENT    POBTOT   POBFEM   POBMAS   P_0A2  P_0A2_F  \\\n",
      "0    1        Aguascalientes  1425607   728924   696683   71864    35604   \n",
      "1    2       Baja California  3769020  1868431  1900589  149957    74010   \n",
      "2    3   Baja California Sur   798447   392568   405879   35963    17821   \n",
      "3    4              Campeche   928363   471424   456939   45541    22506   \n",
      "4    5  Coahuila de Zaragoza  3146771  1583102  1563669  160368    79095   \n",
      "\n",
      "   P_0A2_M   P_0A17  P_3YMAS  ...  VPH_TELEF  VPH_CEL  VPH_INTER  VPH_STVP  \\\n",
      "0    36260   463335  1352235  ...     147818   359895     236003    174089   \n",
      "1    75947  1061893  3610844  ...     576806  1080169     800189    618175   \n",
      "2    18142   236629   758642  ...      91750   226517     148723    136538   \n",
      "3    23035   286880   878528  ...      68843   218322     114020    151613   \n",
      "4    81273   982841  2980244  ...     372132   824291     519599    443659   \n",
      "\n",
      "   VPH_SPMVPI  VPH_CVJ  VPH_SINRTV  VPH_SINLTC  VPH_SINCIN  VPH_SINTIC  \n",
      "0       98724    70126        6021       15323      128996        1711  \n",
      "1      384011   216865       41223       38772      293529        9582  \n",
      "2       67961    36197       14508        8675       77223        2608  \n",
      "3       38508    17976       23627       36397      130361       12028  \n",
      "4      195883   124077       17020       46420      332298        5754  \n",
      "\n",
      "[5 rows x 222 columns]\n",
      "******************** Entidad ********************\n",
      "   ENTIDAD         NOM_ENT   DISTRITO INDIGENA     COMPLEJIDA  POBTOT  POBFEM  \\\n",
      "0        1   Aguascalientes         1       NO     Disperso 1  482911  245249   \n",
      "1        1   Aguascalientes         2       NO  Concentrado 1  486085  249098   \n",
      "2        1   Aguascalientes         3       NO  Concentrado 2  456611  234577   \n",
      "3        2  Baja California         1       NO  Concentrado 2  485628  240417   \n",
      "4        2  Baja California         2       NO  Concentrado 1  396169  197545   \n",
      "\n",
      "   POBMAS  P_0A2  P_0A2_F  ...  VPH_TELEF  VPH_CEL  VPH_INTER  VPH_STVP  \\\n",
      "0  237662  27689    13802  ...      32683   110208      59381     45106   \n",
      "1  236987  24904    12319  ...      51688   126004      84830     63907   \n",
      "2  222034  19271     9483  ...      63447   123683      91792     65076   \n",
      "3  245211  19179     9563  ...      70615   141300      97720     72397   \n",
      "4  198624  11110     5479  ...      82630   119147      97297     65908   \n",
      "\n",
      "   VPH_SPMVPI  VPH_CVJ  VPH_SINRTV  VPH_SINLTC  VPH_SINCIN  VPH_SINTIC  \n",
      "0       19305    14900        2752        8043       54801         985  \n",
      "1       33974    25751        1651        3813       40681         373  \n",
      "2       45445    29475        1618        3467       33514         353  \n",
      "3       48338    29949        4220        5526       44317        1241  \n",
      "4       49026    26747        2815        4302       26120         894  \n",
      "\n",
      "[5 rows x 225 columns]\n",
      "******************** Distrito ********************\n",
      "    ID  ENTIDAD  DISTRITO  MUNICIPIO  SECCION  TIPO  POBTOT  POBFEM  POBMAS  \\\n",
      "0  118        1         3          1        1     2    2564    1360    1204   \n",
      "1  122        1         3          1        2     2     889     462     427   \n",
      "2  128        1         3          1        3     2    2003    1057     946   \n",
      "3  137        1         3          1        4     2    1636     880     756   \n",
      "4  138        1         3          1        5     2     808     445     363   \n",
      "\n",
      "   P_0A2  ...  VPH_TELEF  VPH_CEL  VPH_INTER  VPH_STVP  VPH_SPMVPI  VPH_CVJ  \\\n",
      "0     36  ...        698      740        738       659         615      288   \n",
      "1     27  ...        173      253        195       164         145       54   \n",
      "2     56  ...        426      621        559       360         335      184   \n",
      "3     40  ...        311      507        456       330         329      147   \n",
      "4     14  ...        188      256        233       168         119       70   \n",
      "\n",
      "   VPH_SINRTV  VPH_SINLTC  VPH_SINCIN  VPH_SINTIC  \n",
      "0           2           1          12           1  \n",
      "1           4          20          72           2  \n",
      "2          10           4          74           1  \n",
      "3          10          11          61           1  \n",
      "4           4           0          30           0  \n",
      "\n",
      "[5 rows x 226 columns]   \n",
      "******************** Seccion ********************\n",
      "\n"
     ]
    }
   ],
   "source": [
    "print(f'''\n",
    "{entidad_csv.head()}\n",
    "******************** Entidad ********************\n",
    "{dstrito_csv.head()}\n",
    "******************** Distrito ********************\n",
    "{seccion_csv.head()}   \n",
    "******************** Seccion ********************\n",
    "''')"
   ]
  },
  {
   "cell_type": "markdown",
   "metadata": {},
   "source": [
    "Once our Data Exporation is done, we determined that the cleaning will be about the mental problems and their relation with how many people live in a house.\n",
    "\n",
    "### Data Cleaning\n",
    "Since we only will be doing a simple analisys with only 2 variables, we can discard all the columns we won't use:\n",
    "\n",
    "- ENTIDAD / ENT refers is the number asigned to a state.\n",
    "- NOM_ENT refers to the name of the state.\n",
    "- PCLIM_PMEN refers to people with a mental problem or condition.\n",
    "- PROM_OCUP refers to the average number of occupants in inhabited private homes."
   ]
  },
  {
   "cell_type": "code",
   "execution_count": 15,
   "metadata": {},
   "outputs": [],
   "source": [
    "dstrito_csv = dstrito_csv[['ENTIDAD','NOM_ENT ','PCLIM_PMEN','PROM_OCUP']]\n",
    "entidad_csv = entidad_csv[['ENT','NOM_ENT ','PCLIM_PMEN','PROM_OCUP']]\n",
    "seccion_csv = seccion_csv[['ENTIDAD','PCLIM_PMEN','PROM_OCUP']]"
   ]
  },
  {
   "cell_type": "markdown",
   "metadata": {},
   "source": [
    "Finally, when we have our data cleaned, we move to our next stage, that is:\n",
    "\n",
    "### Data Transformation\n",
    "In this stage, we can make a plot with all the information we have till the moment"
   ]
  },
  {
   "cell_type": "code",
   "execution_count": 16,
   "metadata": {},
   "outputs": [
    {
     "data": {
      "image/png": "[encoded data removed]",
      "text/plain": [
       "<Figure size 432x288 with 3 Axes>"
      ]
     },
     "metadata": {
      "needs_background": "light"
     },
     "output_type": "display_data"
    }
   ],
   "source": [
    "%matplotlib inline\n",
    "import matplotlib.pyplot as plt\n",
    "plot = plt.figure(\"Comparisons\")\n",
    "plot.subplots_adjust(hspace=0.5,wspace=0.5)\n",
    "\n",
    "ax = plot.add_subplot(3,1,1)\n",
    "ax.scatter(dstrito_csv['PROM_OCUP'],dstrito_csv['PCLIM_PMEN'])\n",
    "ax.set_xlabel('Prom ocupantes en viviendas')\n",
    "ax.set_ylabel('Personas con algún problema mental')\n",
    "ax.grid()\n",
    "\n",
    "ax = plot.add_subplot(3,1,2)\n",
    "ax.scatter(entidad_csv['PROM_OCUP'],entidad_csv['PCLIM_PMEN'])\n",
    "ax.set_xlabel('Prom ocupantes en viviendas')\n",
    "ax.set_ylabel('Personas con algún problema mental')\n",
    "ax.grid()\n",
    "\n",
    "ax = plot.add_subplot(3,1,3)\n",
    "ax.scatter(seccion_csv['PROM_OCUP'],seccion_csv['PCLIM_PMEN'])\n",
    "ax.set_xlabel('Prom ocupantes en viviendas')\n",
    "ax.set_ylabel('Personas con algún problema mental')\n",
    "ax.grid()\n",
    "\n",
    "plt.show()"
   ]
  }
 ],
 "metadata": {
  "kernelspec": {
   "display_name": "Python 3",
   "language": "python",
   "name": "python3"
  },
  "language_info": {
   "codemirror_mode": {
    "name": "ipython",
    "version": 3
   },
   "file_extension": ".py",
   "mimetype": "text/x-python",
   "name": "python",
   "nbconvert_exporter": "python",
   "pygments_lexer": "ipython3",
   "version": "3.10.5"
  }
 },
 "nbformat": 4,
 "nbformat_minor": 2
}
