{
 "cells": [
  {
   "cell_type": "markdown",
   "metadata": {},
   "source": [
    "# Data Cleaning - Task 2 Unit 1\n",
    "## Summary\n",
    "\n",
    "---  \n",
    "\n",
    "## Practical Example\n",
    "### Problem\n",
    "Let's suppose you're working at UPY and you need to deliver a report to inform the average score of a every group at the university.\n",
    "In order to accomplish that goal, you were given a sample of the data set to create a script that generates the report.\n",
    "\n",
    "### Solution\n",
    "- **Data Analysis**: In order to know what we need to do, first, we need to analize what kind of data we will get.\n",
    "- **Data Cleaning**: This is a very critical step, because if we do not have the correct data, a lot of problems and issues can occur.\n",
    "\n",
    "Steps to follow in order to clean the data:\n",
    "\n",
    "1. Import the libraries and the DataFrame\n",
    "``` Python\n",
    "import pandas as pd\n",
    "data = open('../DataBases/Task2_U1/Database_Task2U1.csv')\n",
    "```\n",
    "\n",
    "2. Create a varible to store the dataframe\n",
    "``` Python\n",
    "df = pd.read_csv(data)\n",
    "```\n",
    "3. According to Data Analysis, we can delete all duplicated registers\n",
    "``` Python\n",
    "df.drop_duplicates(inplace=True)\n",
    "```\n",
    "4. Also, we can delete registers with an AverageScore of 0 because it was an error\n",
    "``` Python\n",
    "df = df[df['AverageScore'] != 0]\n",
    "```\n",
    "\n",
    "5. After that, we print the function to see the dataframe\n",
    "``` Python\n",
    "print(df)\n",
    "```\n"
   ]
  },
  {
   "cell_type": "code",
   "execution_count": 2,
   "metadata": {},
   "outputs": [
    {
     "name": "stdout",
     "output_type": "stream",
     "text": [
      "    StudentID       Name    LastName Group  AverageScore\n",
      "0     2109110  Alexander      Taylor     A            10\n",
      "1     2109111     Elijah       Brown     A            50\n",
      "2     2109112     Emilia       Brown     A            50\n",
      "3     2109113       Emma    Williams     B            80\n",
      "4     2109114      Henry      Wilson     A            30\n",
      "5     2109115      James       Jones     B            60\n",
      "6     2109116       Liam       Smith     A            90\n",
      "7     2109117      Lucas       Moore     B            20\n",
      "9     2109119     Oliver     Johnson     A            70\n",
      "10    2109120    William       Davis     B            40\n",
      "11    2109121       Bill       Gates     A            10\n",
      "12    2109122       Jeff       Bezos     A            50\n",
      "13    2109123       Elon        Musk     A            50\n",
      "14    2109124     Warren     Buffett     B            80\n",
      "15    2109125       Mark  Zuckerberg     A            30\n",
      "16    2109126      Larry        Page     B            60\n",
      "17    2109127     Sergey        Brin     A            90\n",
      "18    2109128      Steve        Jobs     B            20\n",
      "20    2109130      Oprah     Winfrey     A            70\n",
      "21    2109131     LeBron       James     B            40\n",
      "22    2109132     Lionel       Messi     A            10\n",
      "23    2109133  Cristiano     Ronaldo     A            50\n"
     ]
    }
   ],
   "source": [
    "\n",
    "import pandas as pd\n",
    "data = open('../DataBases/Task2_U1/Database_Task2U1.csv')\n",
    "df = pd.read_csv(data)\n",
    "df.drop_duplicates(inplace=True)\n",
    "df = df[df['AverageScore'] != 0]\n",
    "print(df)"
   ]
  },
  {
   "cell_type": "markdown",
   "metadata": {},
   "source": []
  }
 ],
 "metadata": {
  "kernelspec": {
   "display_name": "Python 3",
   "language": "python",
   "name": "python3"
  },
  "language_info": {
   "codemirror_mode": {
    "name": "ipython",
    "version": 3
   },
   "file_extension": ".py",
   "mimetype": "text/x-python",
   "name": "python",
   "nbconvert_exporter": "python",
   "pygments_lexer": "ipython3",
   "version": "3.10.5"
  },
  "orig_nbformat": 4
 },
 "nbformat": 4,
 "nbformat_minor": 2
}
