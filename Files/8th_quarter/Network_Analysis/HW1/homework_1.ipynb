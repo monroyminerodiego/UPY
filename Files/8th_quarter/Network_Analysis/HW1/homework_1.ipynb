{
 "cells": [
  {
   "cell_type": "markdown",
   "id": "b74eba54",
   "metadata": {},
   "source": [
    "# Homework 1 - Diego Monroy Minero\n",
    "\n",
    "## Chapter 1 - Answers"
   ]
  },
  {
   "cell_type": "code",
   "execution_count": 9,
   "id": "3d357ed3",
   "metadata": {},
   "outputs": [],
   "source": [
    "import networkx as nx"
   ]
  },
  {
   "cell_type": "markdown",
   "id": "244ab67d",
   "metadata": {},
   "source": [
    "### EXERCISE 1\n",
    "\n",
    "Often in the context of trees, a node with degree 1 is called a *leaf*. Write a function named `get_leaves` that takes a graph as an argument, loops through the nodes, and returns a list of nodes with degree 1."
   ]
  },
  {
   "cell_type": "code",
   "execution_count": 10,
   "id": "4573d941",
   "metadata": {},
   "outputs": [],
   "source": [
    "def get_leaves(G):\n",
    "    '''Returns a list of nodes with degree 1 in the graph G.'''\n",
    "    leaves = [node for node, degree in G.degree() if degree == 1]\n",
    "    return leaves\n",
    "\n",
    "\n",
    "\n",
    "G = nx.Graph()\n",
    "G.add_edges_from([\n",
    "        ('a', 'b'),\n",
    "        ('a', 'd'),\n",
    "        ('c', 'd'),\n",
    "    ])\n",
    "assert set(get_leaves(G)) == {'c', 'b'}"
   ]
  },
  {
   "cell_type": "markdown",
   "id": "910e3aa4",
   "metadata": {},
   "source": [
    "### EXERCISE 2\n",
    "\n",
    "Write a function max_degree that takes a graph as its argument, and returns a 2-tuple with the name and degree of the node with highest degree."
   ]
  },
  {
   "cell_type": "code",
   "execution_count": 11,
   "id": "60f9ee57",
   "metadata": {},
   "outputs": [],
   "source": [
    "def max_degree(G):\n",
    "    '''Returns the node with the highest degree and its degree as a tuple.'''\n",
    "    node, degree = max(G.degree(), key=lambda x: x[1])\n",
    "    return (node, degree)\n",
    "\n",
    "SG = nx.read_adjlist('./datasets/friends.adjlist')\n",
    "assert max_degree(SG) == ('Claire', 4)"
   ]
  },
  {
   "cell_type": "markdown",
   "id": "4087c4b7",
   "metadata": {},
   "source": [
    "### EXERCISE 3\n",
    "\n",
    "Write a function `mutual_friends` that takes a graph and two nodes as arguments, and returns a list (or set) of nodes that are linked to both given nodes. For example, in the graph `SG` drawn above,\n",
    "\n",
    "    mutual_friends(SG, 'Alice', 'Claire') == ['Frank']\n",
    "\n",
    "an empty list or set should be returned in the case where two nodes have no mutual friends, e.g. George and Bob in `SG` drawn above."
   ]
  },
  {
   "cell_type": "code",
   "execution_count": 12,
   "id": "014ac831",
   "metadata": {},
   "outputs": [],
   "source": [
    "def mutual_friends(G, node_1, node_2):\n",
    "    '''Returns a list of mutual friends between node_1 and node_2 in graph G.'''\n",
    "    neighbors_1 = set(G.neighbors(node_1))\n",
    "    neighbors_2 = set(G.neighbors(node_2))\n",
    "    \n",
    "    mutuals = list(neighbors_1 & neighbors_2)\n",
    "    \n",
    "    return mutuals\n",
    "\n",
    "SG = nx.read_adjlist('./datasets/friends.adjlist')\n",
    "assert mutual_friends(SG, 'Alice', 'Claire') == ['Frank']\n",
    "assert mutual_friends(SG, 'George', 'Bob') == []\n",
    "assert sorted(mutual_friends(SG, 'Claire', 'George')) == ['Dennis', 'Frank']"
   ]
  },
  {
   "cell_type": "markdown",
   "id": "88c6f350",
   "metadata": {},
   "source": [
    "## Chapter 2 - Answers\n",
    "\n",
    "### EXERCISE 1\n",
    "\n",
    "Is there a direct flight between Indianapolis and Fairbanks, Alaska (FAI)? A direct flight is one with no intermediate stops: **False**"
   ]
  },
  {
   "cell_type": "code",
   "execution_count": null,
   "id": "824f2d48",
   "metadata": {},
   "outputs": [
    {
     "data": {
      "text/plain": [
       "['IND', 'BOS', 'SEA', 'FAI']"
      ]
     },
     "execution_count": 16,
     "metadata": {},
     "output_type": "execute_result"
    }
   ],
   "source": [
    "G = nx.read_graphml('./datasets/openflights/openflights_usa.graphml.gz')\n",
    "\n",
    "nx.shortest_path(G,'IND','FAI')\n"
   ]
  },
  {
   "cell_type": "markdown",
   "id": "908e7854",
   "metadata": {},
   "source": [
    "### EXERCISE 2\n",
    "\n",
    "If I wanted to fly from Indianapolis to Fairbanks, Alaska what would be an itinerary with the fewest number of flights?"
   ]
  },
  {
   "cell_type": "code",
   "execution_count": 20,
   "id": "d358317f",
   "metadata": {},
   "outputs": [
    {
     "name": "stdout",
     "output_type": "stream",
     "text": [
      "1.- Indianapolis International Airport\n",
      "2.- General Edward Lawrence Logan International Airport\n",
      "3.- Seattle Tacoma International Airport\n",
      "4.- Fairbanks International Airport\n"
     ]
    }
   ],
   "source": [
    "for index,node in enumerate(nx.shortest_path(G,'IND','FAI'),1):\n",
    "    print(f\"{index}.- {G.nodes[node]['name']}\")\n"
   ]
  },
  {
   "cell_type": "markdown",
   "id": "ad50b723",
   "metadata": {},
   "source": [
    "### EXERCISE 3\n",
    "\n",
    "Is it possible to travel from any airport in the US to any other airport in the US, possibly using connecting flights? In other words, does there exist a path in the network between every possible pair of airports?"
   ]
  },
  {
   "cell_type": "code",
   "execution_count": 21,
   "id": "40dfc294",
   "metadata": {},
   "outputs": [
    {
     "data": {
      "text/plain": [
       "False"
      ]
     },
     "execution_count": 21,
     "metadata": {},
     "output_type": "execute_result"
    }
   ],
   "source": [
    "nx.is_connected(G)"
   ]
  }
 ],
 "metadata": {
  "kernelspec": {
   "display_name": "Python 3",
   "language": "python",
   "name": "python3"
  },
  "language_info": {
   "codemirror_mode": {
    "name": "ipython",
    "version": 3
   },
   "file_extension": ".py",
   "mimetype": "text/x-python",
   "name": "python",
   "nbconvert_exporter": "python",
   "pygments_lexer": "ipython3",
   "version": "3.12.8"
  }
 },
 "nbformat": 4,
 "nbformat_minor": 5
}
