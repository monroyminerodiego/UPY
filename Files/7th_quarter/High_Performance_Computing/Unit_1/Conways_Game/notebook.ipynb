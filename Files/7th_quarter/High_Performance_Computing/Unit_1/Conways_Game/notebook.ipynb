{
 "cells": [
  {
   "cell_type": "markdown",
   "metadata": {},
   "source": [
    "## Librerias"
   ]
  },
  {
   "cell_type": "code",
   "execution_count": 60,
   "metadata": {},
   "outputs": [],
   "source": [
    "from PIL import Image\n",
    "import matplotlib.pyplot as plt\n",
    "import numpy as np, time, os\n",
    "from scipy.signal import convolve2d\n"
   ]
  },
  {
   "cell_type": "markdown",
   "metadata": {},
   "source": [
    "## Funciones previas"
   ]
  },
  {
   "cell_type": "code",
   "execution_count": 61,
   "metadata": {},
   "outputs": [],
   "source": [
    "def plot_grid(grid,save:bool = False,consecutive:int = 0):\n",
    "    plt.imshow(grid, cmap='viridis', interpolation='nearest')\n",
    "    plt.xlabel('x')\n",
    "    plt.ylabel('y')\n",
    "    plt.grid(True)\n",
    "    \n",
    "    if not(save): plt.show()\n",
    "    else:\n",
    "        plt.savefig(f'Imagenes/{consecutive}.png')\n",
    "        plt.close()\n",
    "\n",
    "def crear_gif(imagenes_path:str,output_name:str):\n",
    "    imagenes = sorted(os.listdir(imagenes_path),key=lambda x: int(os.path.splitext(x)[0]))\n",
    "    frames = [Image.open(os.path.join(imagenes_path,imagen)) for imagen in imagenes]\n",
    "    frames[0].save(\n",
    "        output_name,\n",
    "        save_all=True,\n",
    "        append_images=frames[1:],\n",
    "        duration=500,  # Duración de cada frame en milisegundos\n",
    "        loop=0  # 0 significa que el GIF se repetirá infinitamente\n",
    "    )\n",
    "    print(\"GIF guardado\")\n",
    "\n",
    "def update_rule(lattice, i, j):\n",
    "    n_neigh = lattice[i + 1][j] + lattice[i][j + 1] + lattice[i + 1][j + 1] + \\\n",
    "            lattice[i + 1][j - 1] + lattice[i - 1][j] + lattice[i][j - 1] + \\\n",
    "            lattice[i - 1][j + 1] + lattice[i - 1][j - 1]\n",
    "    \n",
    "    if (lattice[i][j] == 1) and (n_neigh in [2, 3]):\n",
    "        return 1\n",
    "    elif lattice[i][j] == 1:\n",
    "        return 0\n",
    "    elif (lattice[i][j] == 0) and (n_neigh == 3):\n",
    "        return 1\n",
    "    else:\n",
    "        return 0\n",
    "\n",
    "def update(lattice):\n",
    "    box_length = len(lattice) - 2\n",
    "    lattice_new = [[0 for _ in range(box_length + 2)] for _ in range(box_length + 2)]\n",
    "\n",
    "    for i in range(1, box_length + 1):\n",
    "        for j in range(1, box_length + 1):\n",
    "            lattice_new[i][j] = update_rule(lattice, i, j)\n",
    "    \n",
    "    return lattice_new"
   ]
  },
  {
   "cell_type": "markdown",
   "metadata": {},
   "source": [
    "## Initialization"
   ]
  },
  {
   "cell_type": "markdown",
   "metadata": {},
   "source": [
    "### Prueba sin optimizar"
   ]
  },
  {
   "cell_type": "code",
   "execution_count": 62,
   "metadata": {},
   "outputs": [
    {
     "data": {
      "image/png": "[encoded data removed]",
      "text/plain": [
       "<Figure size 640x480 with 1 Axes>"
      ]
     },
     "metadata": {},
     "output_type": "display_data"
    }
   ],
   "source": [
    "box_size = (300,300)\n",
    "lattice = np.zeros(box_size)\n",
    "for i in range(300): \n",
    "    lattice[i,i] = 1\n",
    "    lattice[i,-i] = 1\n",
    "\n",
    "plot_grid(lattice)\n",
    "\n",
    "for i in range(300):\n",
    "    lattice = update(lattice)\n",
    "    if i%5 == 0: plot_grid(lattice,True,i)\n",
    "\n",
    "crear_gif('Imagenes/','GIF/sin_optimizar.gif')"
   ]
  },
  {
   "cell_type": "markdown",
   "metadata": {},
   "source": [
    "## Optimizacion"
   ]
  },
  {
   "cell_type": "code",
   "execution_count": 63,
   "metadata": {},
   "outputs": [],
   "source": [
    "def update(lattice):\n",
    "    kernel = np.array([[1, 1, 1],\n",
    "                       [1, 0, 1],\n",
    "                       [1, 1, 1]])\n",
    "\n",
    "    neighbors = convolve2d(lattice, kernel, mode='same', boundary='fill', fillvalue=0)\n",
    "\n",
    "\n",
    "    new_lattice = (neighbors == 3) | ((lattice == 1) & (neighbors == 2))\n",
    "    \n",
    "    return new_lattice.astype(int)"
   ]
  },
  {
   "cell_type": "markdown",
   "metadata": {},
   "source": [
    "### Prueba Optimizada"
   ]
  },
  {
   "cell_type": "code",
   "execution_count": 64,
   "metadata": {},
   "outputs": [
    {
     "data": {
      "image/png": "[encoded data removed]",
      "text/plain": [
       "<Figure size 640x480 with 1 Axes>"
      ]
     },
     "metadata": {},
     "output_type": "display_data"
    },
    {
     "name": "stdout",
     "output_type": "stream",
     "text": [
      "GIF guardado\n"
     ]
    }
   ],
   "source": [
    "box_size = (300,300)\n",
    "lattice = np.zeros(box_size)\n",
    "for i in range(300): \n",
    "    lattice[i,i] = 1\n",
    "    lattice[i,-i] = 1\n",
    "\n",
    "plot_grid(lattice)\n",
    "\n",
    "for i in range(300):\n",
    "    lattice = update(lattice)\n",
    "    if i%5 == 0: plot_grid(lattice,True,i)\n",
    "\n",
    "crear_gif('Imagenes/','GIF/optimizado.gif')"
   ]
  },
  {
   "cell_type": "markdown",
   "metadata": {},
   "source": [
    "## Authors:\n",
    "* Chiquete Ayala Paulina\n",
    "* Monroy Minero Diego"
   ]
  }
 ],
 "metadata": {
  "kernelspec": {
   "display_name": "Python 3",
   "language": "python",
   "name": "python3"
  },
  "language_info": {
   "codemirror_mode": {
    "name": "ipython",
    "version": 3
   },
   "file_extension": ".py",
   "mimetype": "text/x-python",
   "name": "python",
   "nbconvert_exporter": "python",
   "pygments_lexer": "ipython3",
   "version": "3.12.8"
  }
 },
 "nbformat": 4,
 "nbformat_minor": 2
}
